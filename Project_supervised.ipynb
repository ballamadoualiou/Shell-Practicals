{
 "cells": [
  {
   "attachments": {
    "AIMSSenegalLogo.jpeg": {
     "image/jpeg": "[encoded data removed]"
    }
   },
   "cell_type": "markdown",
   "id": "5654e178",
   "metadata": {},
   "source": [
    "![AIMSSenegalLogo.jpeg](attachment:AIMSSenegalLogo.jpeg)"
   ]
  },
  {
   "cell_type": "markdown",
   "id": "9a33f3ac",
   "metadata": {},
   "source": [
    " <center><center>  <h1 style=\"color:brown;text-align:center;\" > FINAL PROJECT 2 FOR DATA MINING </h1>\n",
    "    <center><center>  <h3 style=\"color:brown;text-align:center;\" > Partie de Prédiction </h3>\n",
    " \n",
    "   <h2> <i> <p style=\"color:brown; text-align:center;\"> Membres of Group: </p></i></h2>\n",
    "    \n",
    "<center><h4> Makumbu Mboko Henock </h4>\n",
    "<center><h4> Amadou Aliou Ball </h4> \n",
    "<center><h4> Mariama Diarra Bousso Diop </h4>\n",
    "<center><h4> Aissata Diop </h4> \n",
    "<center><h4> Mbingui Verlon Roel </h4>\n",
    "<center><h4> Bahati Kilongo </h4> "
   ]
  },
  {
   "cell_type": "markdown",
   "id": "20348d17",
   "metadata": {},
   "source": [
    "##  `Description Data set` \n",
    "\n",
    "Ce jeu de données est constitué de caractéristiques de chiffres manuscrits (0'--9’) extrait d’une collection de cartes d’utilité publique néerlandaises. Les modèles ont été numérisés en images binaire. Ces chiffres sont représentés par les six des ensembles de fonctionnalités suivantes :\n",
    "\n",
    "                mfeat-fou: 76 Fourier coefficients of the character shapes;\n",
    "                mfeat-fac: 216 profile correlations;\n",
    "                mfeat-kar: 64 Karhunen-Love coefficients;\n",
    "                mfeat-pix: 240 pixel averages in 2 x 3 windows;\n",
    "                mfeat-zer: 47 Zernike moments;\n",
    "                mfeat-mor: 6 morphological features."
   ]
  },
  {
   "cell_type": "markdown",
   "id": "3e164c00",
   "metadata": {},
   "source": [
    "##  `Définition du Problème à résoudre` \n",
    "L’objectif est de prédire les valeurs prises par une variable cible\n",
    "qualitative nominale CLASS à 10 modalités.\n",
    "\n",
    "Toutefois cette variable à expliquée n'est pas encore créée, nous allons dans un premier temps la créer. Ensuite utiliser certaines méthodes supervisée pour la prédiction"
   ]
  },
  {
   "cell_type": "markdown",
   "id": "2fbf453b",
   "metadata": {},
   "source": [
    "## `Importation des outils à utiliser`"
   ]
  },
  {
   "cell_type": "code",
   "execution_count": 48,
   "id": "7b10f21d",
   "metadata": {},
   "outputs": [],
   "source": [
    "import pandas as pd #\n",
    "\n",
    "import os \n",
    "os.getcwd()\n",
    "import seaborn as sns\n",
    "import numpy as np\n",
    "import sklearn\n",
    "import matplotlib.pyplot as plt\n",
    "import seaborn as sn\n",
    "from sklearn.model_selection import train_test_split\n",
    "from sklearn.metrics import accuracy_score, classification_report, confusion_matrix \n",
    "\n",
    "import warnings\n",
    "warnings.filterwarnings('ignore')"
   ]
  },
  {
   "cell_type": "markdown",
   "id": "c60163a7",
   "metadata": {},
   "source": [
    "## `Importation des données`"
   ]
  },
  {
   "cell_type": "markdown",
   "id": "ee30e4c4",
   "metadata": {},
   "source": [
    "Nous chargeons les données, chacune avec sa configuration particulière, donc la nomination des entêtes des différentes colonnes par la numérotation des suffixes  de chaque nom du fichier, pour ne pas confondre les variables de chaque fiechier"
   ]
  },
  {
   "cell_type": "code",
   "execution_count": 49,
   "id": "a8ecb464",
   "metadata": {},
   "outputs": [],
   "source": [
    "mfeat_fac = pd.read_table(\"mfeat-fac\", header=None, sep='\\s+' ,names=['fac_'+str(i) for i in range(216)])\n",
    "mfeat_fou = pd.read_table(\"mfeat-fou\", header=None, sep='\\s+',names=['fou_'+str(i) for i in range(76)])\n",
    "mfeat_kar = pd.read_table(\"mfeat-kar\", header=None, sep='\\s+',names=['kar_'+str(i) for i in range(64)])\n",
    "mfeat_mor = pd.read_table(\"mfeat-mor\", header=None, sep='\\s+',names=['mor_'+str(i) for i in range(6)])\n",
    "mfeat_pix = pd.read_table(\"mfeat-pix\", header=None, sep='\\s+',names=['pix_'+str(i) for i in range(240)])\n",
    "mfeat_zer = pd.read_table(\"mfeat-zer\", header=None, sep='\\s+',names=['zer_'+str(i) for i in range(47)])"
   ]
  },
  {
   "cell_type": "markdown",
   "id": "e2ecb519",
   "metadata": {},
   "source": [
    "## `Préparation et Nettoyage des données`"
   ]
  },
  {
   "cell_type": "markdown",
   "id": "8876a0cc",
   "metadata": {},
   "source": [
    "### Concaténation des données importées"
   ]
  },
  {
   "cell_type": "markdown",
   "id": "e620a2d6",
   "metadata": {},
   "source": [
    "Dans le cadre de concision pour les raisons de traitement unique,  nous regroupons tous les fichiers par leurs  variables dans un dataframe nommé `data_full`."
   ]
  },
  {
   "cell_type": "code",
   "execution_count": 50,
   "id": "d867d0c9",
   "metadata": {},
   "outputs": [],
   "source": [
    "#using methode de concat pour concaténation suivant les colones (axis = 1)\n",
    "data_full = pd.concat([mfeat_fac,mfeat_fou,mfeat_kar,mfeat_mor,mfeat_pix ,mfeat_zer] ,axis = 1)"
   ]
  },
  {
   "cell_type": "code",
   "execution_count": 51,
   "id": "39f4052a",
   "metadata": {
    "scrolled": true
   },
   "outputs": [
    {
     "data": {
      "text/html": [
       "<div>\n",
       "<style scoped>\n",
       "    .dataframe tbody tr th:only-of-type {\n",
       "        vertical-align: middle;\n",
       "    }\n",
       "\n",
       "    .dataframe tbody tr th {\n",
       "        vertical-align: top;\n",
       "    }\n",
       "\n",
       "    .dataframe thead th {\n",
       "        text-align: right;\n",
       "    }\n",
       "</style>\n",
       "<table border=\"1\" class=\"dataframe\">\n",
       "  <thead>\n",
       "    <tr style=\"text-align: right;\">\n",
       "      <th></th>\n",
       "      <th>fac_0</th>\n",
       "      <th>fac_1</th>\n",
       "      <th>fac_2</th>\n",
       "      <th>fac_3</th>\n",
       "      <th>fac_4</th>\n",
       "      <th>fac_5</th>\n",
       "      <th>fac_6</th>\n",
       "      <th>fac_7</th>\n",
       "      <th>fac_8</th>\n",
       "      <th>fac_9</th>\n",
       "      <th>...</th>\n",
       "      <th>zer_37</th>\n",
       "      <th>zer_38</th>\n",
       "      <th>zer_39</th>\n",
       "      <th>zer_40</th>\n",
       "      <th>zer_41</th>\n",
       "      <th>zer_42</th>\n",
       "      <th>zer_43</th>\n",
       "      <th>zer_44</th>\n",
       "      <th>zer_45</th>\n",
       "      <th>zer_46</th>\n",
       "    </tr>\n",
       "  </thead>\n",
       "  <tbody>\n",
       "    <tr>\n",
       "      <th>0</th>\n",
       "      <td>98</td>\n",
       "      <td>236</td>\n",
       "      <td>531</td>\n",
       "      <td>673</td>\n",
       "      <td>607</td>\n",
       "      <td>647</td>\n",
       "      <td>2</td>\n",
       "      <td>9</td>\n",
       "      <td>3</td>\n",
       "      <td>6</td>\n",
       "      <td>...</td>\n",
       "      <td>1.713529</td>\n",
       "      <td>33.810340</td>\n",
       "      <td>9.858915</td>\n",
       "      <td>1.399891</td>\n",
       "      <td>148.138058</td>\n",
       "      <td>326.239452</td>\n",
       "      <td>9.711070</td>\n",
       "      <td>20.007248</td>\n",
       "      <td>47.032578</td>\n",
       "      <td>539.208457</td>\n",
       "    </tr>\n",
       "    <tr>\n",
       "      <th>1</th>\n",
       "      <td>121</td>\n",
       "      <td>193</td>\n",
       "      <td>607</td>\n",
       "      <td>611</td>\n",
       "      <td>585</td>\n",
       "      <td>665</td>\n",
       "      <td>7</td>\n",
       "      <td>9</td>\n",
       "      <td>2</td>\n",
       "      <td>4</td>\n",
       "      <td>...</td>\n",
       "      <td>2.590208</td>\n",
       "      <td>35.400531</td>\n",
       "      <td>70.681899</td>\n",
       "      <td>6.674412</td>\n",
       "      <td>155.135985</td>\n",
       "      <td>377.832675</td>\n",
       "      <td>8.140633</td>\n",
       "      <td>44.536711</td>\n",
       "      <td>46.338954</td>\n",
       "      <td>518.496567</td>\n",
       "    </tr>\n",
       "    <tr>\n",
       "      <th>2</th>\n",
       "      <td>115</td>\n",
       "      <td>141</td>\n",
       "      <td>590</td>\n",
       "      <td>605</td>\n",
       "      <td>557</td>\n",
       "      <td>627</td>\n",
       "      <td>12</td>\n",
       "      <td>6</td>\n",
       "      <td>3</td>\n",
       "      <td>3</td>\n",
       "      <td>...</td>\n",
       "      <td>1.476285</td>\n",
       "      <td>19.477230</td>\n",
       "      <td>30.093590</td>\n",
       "      <td>7.858211</td>\n",
       "      <td>150.126419</td>\n",
       "      <td>419.565747</td>\n",
       "      <td>4.530921</td>\n",
       "      <td>26.292170</td>\n",
       "      <td>44.574822</td>\n",
       "      <td>549.912691</td>\n",
       "    </tr>\n",
       "    <tr>\n",
       "      <th>3</th>\n",
       "      <td>90</td>\n",
       "      <td>122</td>\n",
       "      <td>627</td>\n",
       "      <td>692</td>\n",
       "      <td>607</td>\n",
       "      <td>642</td>\n",
       "      <td>0</td>\n",
       "      <td>6</td>\n",
       "      <td>4</td>\n",
       "      <td>5</td>\n",
       "      <td>...</td>\n",
       "      <td>1.349613</td>\n",
       "      <td>14.179518</td>\n",
       "      <td>30.564085</td>\n",
       "      <td>7.097728</td>\n",
       "      <td>173.840759</td>\n",
       "      <td>441.350376</td>\n",
       "      <td>3.706023</td>\n",
       "      <td>13.432311</td>\n",
       "      <td>51.739930</td>\n",
       "      <td>574.887814</td>\n",
       "    </tr>\n",
       "    <tr>\n",
       "      <th>4</th>\n",
       "      <td>157</td>\n",
       "      <td>167</td>\n",
       "      <td>681</td>\n",
       "      <td>666</td>\n",
       "      <td>587</td>\n",
       "      <td>666</td>\n",
       "      <td>8</td>\n",
       "      <td>6</td>\n",
       "      <td>1</td>\n",
       "      <td>4</td>\n",
       "      <td>...</td>\n",
       "      <td>0.667971</td>\n",
       "      <td>8.705403</td>\n",
       "      <td>30.242473</td>\n",
       "      <td>9.015714</td>\n",
       "      <td>167.021185</td>\n",
       "      <td>332.479997</td>\n",
       "      <td>1.806273</td>\n",
       "      <td>23.689300</td>\n",
       "      <td>50.407770</td>\n",
       "      <td>492.227513</td>\n",
       "    </tr>\n",
       "  </tbody>\n",
       "</table>\n",
       "<p>5 rows × 649 columns</p>\n",
       "</div>"
      ],
      "text/plain": [
       "   fac_0  fac_1  fac_2  fac_3  fac_4  fac_5  fac_6  fac_7  fac_8  fac_9  ...  \\\n",
       "0     98    236    531    673    607    647      2      9      3      6  ...   \n",
       "1    121    193    607    611    585    665      7      9      2      4  ...   \n",
       "2    115    141    590    605    557    627     12      6      3      3  ...   \n",
       "3     90    122    627    692    607    642      0      6      4      5  ...   \n",
       "4    157    167    681    666    587    666      8      6      1      4  ...   \n",
       "\n",
       "     zer_37     zer_38     zer_39    zer_40      zer_41      zer_42    zer_43  \\\n",
       "0  1.713529  33.810340   9.858915  1.399891  148.138058  326.239452  9.711070   \n",
       "1  2.590208  35.400531  70.681899  6.674412  155.135985  377.832675  8.140633   \n",
       "2  1.476285  19.477230  30.093590  7.858211  150.126419  419.565747  4.530921   \n",
       "3  1.349613  14.179518  30.564085  7.097728  173.840759  441.350376  3.706023   \n",
       "4  0.667971   8.705403  30.242473  9.015714  167.021185  332.479997  1.806273   \n",
       "\n",
       "      zer_44     zer_45      zer_46  \n",
       "0  20.007248  47.032578  539.208457  \n",
       "1  44.536711  46.338954  518.496567  \n",
       "2  26.292170  44.574822  549.912691  \n",
       "3  13.432311  51.739930  574.887814  \n",
       "4  23.689300  50.407770  492.227513  \n",
       "\n",
       "[5 rows x 649 columns]"
      ]
     },
     "execution_count": 51,
     "metadata": {},
     "output_type": "execute_result"
    }
   ],
   "source": [
    "#Affichage de l'entête du data_full\n",
    "data_full.head()"
   ]
  },
  {
   "cell_type": "code",
   "execution_count": 52,
   "id": "025db12e",
   "metadata": {},
   "outputs": [
    {
     "data": {
      "text/plain": [
       "(2000, 649)"
      ]
     },
     "execution_count": 52,
     "metadata": {},
     "output_type": "execute_result"
    }
   ],
   "source": [
    "data_full.shape"
   ]
  },
  {
   "cell_type": "code",
   "execution_count": 53,
   "id": "560e3bf2",
   "metadata": {
    "scrolled": true
   },
   "outputs": [
    {
     "name": "stdout",
     "output_type": "stream",
     "text": [
      "<class 'pandas.core.frame.DataFrame'>\n",
      "RangeIndex: 2000 entries, 0 to 1999\n",
      "Columns: 649 entries, fac_0 to zer_46\n",
      "dtypes: float64(193), int64(456)\n",
      "memory usage: 9.9 MB\n"
     ]
    }
   ],
   "source": [
    "# Affichage des informations générales du dataset (data_full) par la methode info()\n",
    "data_full.info()"
   ]
  },
  {
   "cell_type": "markdown",
   "id": "1f5b6080",
   "metadata": {},
   "source": [
    "### Vérication des valeurs manquantes"
   ]
  },
  {
   "cell_type": "code",
   "execution_count": 54,
   "id": "5338e0de",
   "metadata": {},
   "outputs": [
    {
     "data": {
      "text/plain": [
       "fac_0     0\n",
       "pix_84    0\n",
       "pix_66    0\n",
       "pix_67    0\n",
       "pix_68    0\n",
       "         ..\n",
       "fou_2     0\n",
       "fou_3     0\n",
       "fou_4     0\n",
       "fou_5     0\n",
       "zer_46    0\n",
       "Length: 649, dtype: int64"
      ]
     },
     "execution_count": 54,
     "metadata": {},
     "output_type": "execute_result"
    }
   ],
   "source": [
    "# Vérification des valeurs manquantes\n",
    "data_full.isnull().sum().sort_values(ascending = False)"
   ]
  },
  {
   "cell_type": "markdown",
   "id": "b40f4688",
   "metadata": {},
   "source": [
    "### Description statistique sur les variables"
   ]
  },
  {
   "cell_type": "code",
   "execution_count": 55,
   "id": "87f48800",
   "metadata": {},
   "outputs": [
    {
     "data": {
      "text/html": [
       "<div>\n",
       "<style scoped>\n",
       "    .dataframe tbody tr th:only-of-type {\n",
       "        vertical-align: middle;\n",
       "    }\n",
       "\n",
       "    .dataframe tbody tr th {\n",
       "        vertical-align: top;\n",
       "    }\n",
       "\n",
       "    .dataframe thead th {\n",
       "        text-align: right;\n",
       "    }\n",
       "</style>\n",
       "<table border=\"1\" class=\"dataframe\">\n",
       "  <thead>\n",
       "    <tr style=\"text-align: right;\">\n",
       "      <th></th>\n",
       "      <th>fac_0</th>\n",
       "      <th>fac_1</th>\n",
       "      <th>fac_2</th>\n",
       "      <th>fac_3</th>\n",
       "      <th>fac_4</th>\n",
       "      <th>fac_5</th>\n",
       "      <th>fac_6</th>\n",
       "      <th>fac_7</th>\n",
       "      <th>fac_8</th>\n",
       "      <th>fac_9</th>\n",
       "      <th>...</th>\n",
       "      <th>zer_37</th>\n",
       "      <th>zer_38</th>\n",
       "      <th>zer_39</th>\n",
       "      <th>zer_40</th>\n",
       "      <th>zer_41</th>\n",
       "      <th>zer_42</th>\n",
       "      <th>zer_43</th>\n",
       "      <th>zer_44</th>\n",
       "      <th>zer_45</th>\n",
       "      <th>zer_46</th>\n",
       "    </tr>\n",
       "  </thead>\n",
       "  <tbody>\n",
       "    <tr>\n",
       "      <th>count</th>\n",
       "      <td>2000.000000</td>\n",
       "      <td>2000.000000</td>\n",
       "      <td>2000.00000</td>\n",
       "      <td>2000.000000</td>\n",
       "      <td>2000.000000</td>\n",
       "      <td>2000.00000</td>\n",
       "      <td>2000.000000</td>\n",
       "      <td>2000.000000</td>\n",
       "      <td>2000.000000</td>\n",
       "      <td>2000.000000</td>\n",
       "      <td>...</td>\n",
       "      <td>2000.000000</td>\n",
       "      <td>2000.000000</td>\n",
       "      <td>2000.000000</td>\n",
       "      <td>2000.000000</td>\n",
       "      <td>2000.000000</td>\n",
       "      <td>2000.000000</td>\n",
       "      <td>2000.000000</td>\n",
       "      <td>2000.000000</td>\n",
       "      <td>2000.000000</td>\n",
       "      <td>2000.000000</td>\n",
       "    </tr>\n",
       "    <tr>\n",
       "      <th>mean</th>\n",
       "      <td>272.051500</td>\n",
       "      <td>322.725500</td>\n",
       "      <td>774.82450</td>\n",
       "      <td>754.339000</td>\n",
       "      <td>640.460500</td>\n",
       "      <td>684.47200</td>\n",
       "      <td>19.450000</td>\n",
       "      <td>18.373000</td>\n",
       "      <td>15.359000</td>\n",
       "      <td>9.054000</td>\n",
       "      <td>...</td>\n",
       "      <td>3.846023</td>\n",
       "      <td>38.234141</td>\n",
       "      <td>111.894053</td>\n",
       "      <td>7.537383</td>\n",
       "      <td>185.346722</td>\n",
       "      <td>399.152215</td>\n",
       "      <td>9.206768</td>\n",
       "      <td>86.405616</td>\n",
       "      <td>54.625111</td>\n",
       "      <td>508.902572</td>\n",
       "    </tr>\n",
       "    <tr>\n",
       "      <th>std</th>\n",
       "      <td>91.275454</td>\n",
       "      <td>109.426588</td>\n",
       "      <td>140.14157</td>\n",
       "      <td>109.173768</td>\n",
       "      <td>48.940117</td>\n",
       "      <td>85.07886</td>\n",
       "      <td>11.351561</td>\n",
       "      <td>7.351795</td>\n",
       "      <td>8.887216</td>\n",
       "      <td>4.084412</td>\n",
       "      <td>...</td>\n",
       "      <td>2.473214</td>\n",
       "      <td>27.619617</td>\n",
       "      <td>65.211345</td>\n",
       "      <td>3.757990</td>\n",
       "      <td>37.878378</td>\n",
       "      <td>96.330148</td>\n",
       "      <td>6.780826</td>\n",
       "      <td>52.027535</td>\n",
       "      <td>11.190058</td>\n",
       "      <td>71.008030</td>\n",
       "    </tr>\n",
       "    <tr>\n",
       "      <th>min</th>\n",
       "      <td>67.000000</td>\n",
       "      <td>81.000000</td>\n",
       "      <td>500.00000</td>\n",
       "      <td>543.000000</td>\n",
       "      <td>437.000000</td>\n",
       "      <td>439.00000</td>\n",
       "      <td>0.000000</td>\n",
       "      <td>1.000000</td>\n",
       "      <td>0.000000</td>\n",
       "      <td>0.000000</td>\n",
       "      <td>...</td>\n",
       "      <td>0.073270</td>\n",
       "      <td>0.320603</td>\n",
       "      <td>1.107045</td>\n",
       "      <td>0.351190</td>\n",
       "      <td>57.557652</td>\n",
       "      <td>109.141060</td>\n",
       "      <td>0.362926</td>\n",
       "      <td>0.753130</td>\n",
       "      <td>19.956263</td>\n",
       "      <td>322.226686</td>\n",
       "    </tr>\n",
       "    <tr>\n",
       "      <th>25%</th>\n",
       "      <td>208.000000</td>\n",
       "      <td>247.000000</td>\n",
       "      <td>656.75000</td>\n",
       "      <td>667.000000</td>\n",
       "      <td>607.000000</td>\n",
       "      <td>642.00000</td>\n",
       "      <td>10.000000</td>\n",
       "      <td>13.000000</td>\n",
       "      <td>8.000000</td>\n",
       "      <td>5.000000</td>\n",
       "      <td>...</td>\n",
       "      <td>1.929376</td>\n",
       "      <td>19.130537</td>\n",
       "      <td>56.358750</td>\n",
       "      <td>5.031431</td>\n",
       "      <td>158.815192</td>\n",
       "      <td>329.825175</td>\n",
       "      <td>4.444497</td>\n",
       "      <td>40.332461</td>\n",
       "      <td>46.509687</td>\n",
       "      <td>455.272657</td>\n",
       "    </tr>\n",
       "    <tr>\n",
       "      <th>50%</th>\n",
       "      <td>274.500000</td>\n",
       "      <td>324.000000</td>\n",
       "      <td>766.00000</td>\n",
       "      <td>736.000000</td>\n",
       "      <td>636.500000</td>\n",
       "      <td>676.00000</td>\n",
       "      <td>20.000000</td>\n",
       "      <td>18.000000</td>\n",
       "      <td>15.000000</td>\n",
       "      <td>10.000000</td>\n",
       "      <td>...</td>\n",
       "      <td>3.257455</td>\n",
       "      <td>31.216666</td>\n",
       "      <td>108.315201</td>\n",
       "      <td>6.982853</td>\n",
       "      <td>184.453619</td>\n",
       "      <td>397.537857</td>\n",
       "      <td>7.417669</td>\n",
       "      <td>83.125987</td>\n",
       "      <td>54.120179</td>\n",
       "      <td>504.737620</td>\n",
       "    </tr>\n",
       "    <tr>\n",
       "      <th>75%</th>\n",
       "      <td>338.000000</td>\n",
       "      <td>406.000000</td>\n",
       "      <td>879.00000</td>\n",
       "      <td>830.000000</td>\n",
       "      <td>667.000000</td>\n",
       "      <td>716.00000</td>\n",
       "      <td>29.000000</td>\n",
       "      <td>24.000000</td>\n",
       "      <td>22.000000</td>\n",
       "      <td>12.000000</td>\n",
       "      <td>...</td>\n",
       "      <td>5.335209</td>\n",
       "      <td>48.414166</td>\n",
       "      <td>160.362336</td>\n",
       "      <td>9.394056</td>\n",
       "      <td>213.729648</td>\n",
       "      <td>459.781887</td>\n",
       "      <td>11.849198</td>\n",
       "      <td>127.611792</td>\n",
       "      <td>62.907443</td>\n",
       "      <td>558.841944</td>\n",
       "    </tr>\n",
       "    <tr>\n",
       "      <th>max</th>\n",
       "      <td>515.000000</td>\n",
       "      <td>565.000000</td>\n",
       "      <td>1264.00000</td>\n",
       "      <td>1134.000000</td>\n",
       "      <td>823.000000</td>\n",
       "      <td>1047.00000</td>\n",
       "      <td>42.000000</td>\n",
       "      <td>39.000000</td>\n",
       "      <td>39.000000</td>\n",
       "      <td>17.000000</td>\n",
       "      <td>...</td>\n",
       "      <td>12.379771</td>\n",
       "      <td>158.706121</td>\n",
       "      <td>291.114897</td>\n",
       "      <td>24.583822</td>\n",
       "      <td>296.803081</td>\n",
       "      <td>722.998115</td>\n",
       "      <td>39.049934</td>\n",
       "      <td>218.877200</td>\n",
       "      <td>89.229699</td>\n",
       "      <td>777.861827</td>\n",
       "    </tr>\n",
       "  </tbody>\n",
       "</table>\n",
       "<p>8 rows × 649 columns</p>\n",
       "</div>"
      ],
      "text/plain": [
       "             fac_0        fac_1       fac_2        fac_3        fac_4  \\\n",
       "count  2000.000000  2000.000000  2000.00000  2000.000000  2000.000000   \n",
       "mean    272.051500   322.725500   774.82450   754.339000   640.460500   \n",
       "std      91.275454   109.426588   140.14157   109.173768    48.940117   \n",
       "min      67.000000    81.000000   500.00000   543.000000   437.000000   \n",
       "25%     208.000000   247.000000   656.75000   667.000000   607.000000   \n",
       "50%     274.500000   324.000000   766.00000   736.000000   636.500000   \n",
       "75%     338.000000   406.000000   879.00000   830.000000   667.000000   \n",
       "max     515.000000   565.000000  1264.00000  1134.000000   823.000000   \n",
       "\n",
       "            fac_5        fac_6        fac_7        fac_8        fac_9  ...  \\\n",
       "count  2000.00000  2000.000000  2000.000000  2000.000000  2000.000000  ...   \n",
       "mean    684.47200    19.450000    18.373000    15.359000     9.054000  ...   \n",
       "std      85.07886    11.351561     7.351795     8.887216     4.084412  ...   \n",
       "min     439.00000     0.000000     1.000000     0.000000     0.000000  ...   \n",
       "25%     642.00000    10.000000    13.000000     8.000000     5.000000  ...   \n",
       "50%     676.00000    20.000000    18.000000    15.000000    10.000000  ...   \n",
       "75%     716.00000    29.000000    24.000000    22.000000    12.000000  ...   \n",
       "max    1047.00000    42.000000    39.000000    39.000000    17.000000  ...   \n",
       "\n",
       "            zer_37       zer_38       zer_39       zer_40       zer_41  \\\n",
       "count  2000.000000  2000.000000  2000.000000  2000.000000  2000.000000   \n",
       "mean      3.846023    38.234141   111.894053     7.537383   185.346722   \n",
       "std       2.473214    27.619617    65.211345     3.757990    37.878378   \n",
       "min       0.073270     0.320603     1.107045     0.351190    57.557652   \n",
       "25%       1.929376    19.130537    56.358750     5.031431   158.815192   \n",
       "50%       3.257455    31.216666   108.315201     6.982853   184.453619   \n",
       "75%       5.335209    48.414166   160.362336     9.394056   213.729648   \n",
       "max      12.379771   158.706121   291.114897    24.583822   296.803081   \n",
       "\n",
       "            zer_42       zer_43       zer_44       zer_45       zer_46  \n",
       "count  2000.000000  2000.000000  2000.000000  2000.000000  2000.000000  \n",
       "mean    399.152215     9.206768    86.405616    54.625111   508.902572  \n",
       "std      96.330148     6.780826    52.027535    11.190058    71.008030  \n",
       "min     109.141060     0.362926     0.753130    19.956263   322.226686  \n",
       "25%     329.825175     4.444497    40.332461    46.509687   455.272657  \n",
       "50%     397.537857     7.417669    83.125987    54.120179   504.737620  \n",
       "75%     459.781887    11.849198   127.611792    62.907443   558.841944  \n",
       "max     722.998115    39.049934   218.877200    89.229699   777.861827  \n",
       "\n",
       "[8 rows x 649 columns]"
      ]
     },
     "execution_count": 55,
     "metadata": {},
     "output_type": "execute_result"
    }
   ],
   "source": [
    "# Quelques statistiques sur les variables quantitatives\n",
    "data_full.describe()"
   ]
  },
  {
   "cell_type": "markdown",
   "id": "5117cf8a",
   "metadata": {},
   "source": [
    "### Normalisation du data_full"
   ]
  },
  {
   "cell_type": "code",
   "execution_count": 56,
   "id": "74fbe305",
   "metadata": {},
   "outputs": [],
   "source": [
    "# on centre et réruit les données pour permettre que les données puissent avoir la même unité\n",
    "data_mean=data_full.mean()\n",
    "data_std=data_full.std()\n",
    "data_scaling=(data_full-data_mean)/data_std"
   ]
  },
  {
   "cell_type": "code",
   "execution_count": 57,
   "id": "54c524cd",
   "metadata": {},
   "outputs": [
    {
     "data": {
      "text/html": [
       "<div>\n",
       "<style scoped>\n",
       "    .dataframe tbody tr th:only-of-type {\n",
       "        vertical-align: middle;\n",
       "    }\n",
       "\n",
       "    .dataframe tbody tr th {\n",
       "        vertical-align: top;\n",
       "    }\n",
       "\n",
       "    .dataframe thead th {\n",
       "        text-align: right;\n",
       "    }\n",
       "</style>\n",
       "<table border=\"1\" class=\"dataframe\">\n",
       "  <thead>\n",
       "    <tr style=\"text-align: right;\">\n",
       "      <th></th>\n",
       "      <th>fac_0</th>\n",
       "      <th>fac_1</th>\n",
       "      <th>fac_2</th>\n",
       "      <th>fac_3</th>\n",
       "      <th>fac_4</th>\n",
       "      <th>fac_5</th>\n",
       "      <th>fac_6</th>\n",
       "      <th>fac_7</th>\n",
       "      <th>fac_8</th>\n",
       "      <th>fac_9</th>\n",
       "      <th>...</th>\n",
       "      <th>zer_37</th>\n",
       "      <th>zer_38</th>\n",
       "      <th>zer_39</th>\n",
       "      <th>zer_40</th>\n",
       "      <th>zer_41</th>\n",
       "      <th>zer_42</th>\n",
       "      <th>zer_43</th>\n",
       "      <th>zer_44</th>\n",
       "      <th>zer_45</th>\n",
       "      <th>zer_46</th>\n",
       "    </tr>\n",
       "  </thead>\n",
       "  <tbody>\n",
       "    <tr>\n",
       "      <th>0</th>\n",
       "      <td>-1.906882</td>\n",
       "      <td>-0.792545</td>\n",
       "      <td>-1.739844</td>\n",
       "      <td>-0.745042</td>\n",
       "      <td>-0.683703</td>\n",
       "      <td>-0.440438</td>\n",
       "      <td>-1.537234</td>\n",
       "      <td>-1.274927</td>\n",
       "      <td>-1.390649</td>\n",
       "      <td>-0.747721</td>\n",
       "      <td>...</td>\n",
       "      <td>-0.862236</td>\n",
       "      <td>-0.160169</td>\n",
       "      <td>-1.564684</td>\n",
       "      <td>-1.633185</td>\n",
       "      <td>-0.982319</td>\n",
       "      <td>-0.756905</td>\n",
       "      <td>0.074372</td>\n",
       "      <td>-1.276216</td>\n",
       "      <td>-0.678507</td>\n",
       "      <td>0.426795</td>\n",
       "    </tr>\n",
       "    <tr>\n",
       "      <th>1</th>\n",
       "      <td>-1.654897</td>\n",
       "      <td>-1.185503</td>\n",
       "      <td>-1.197535</td>\n",
       "      <td>-1.312944</td>\n",
       "      <td>-1.133232</td>\n",
       "      <td>-0.228870</td>\n",
       "      <td>-1.096765</td>\n",
       "      <td>-1.274927</td>\n",
       "      <td>-1.503170</td>\n",
       "      <td>-1.237387</td>\n",
       "      <td>...</td>\n",
       "      <td>-0.507767</td>\n",
       "      <td>-0.102594</td>\n",
       "      <td>-0.631978</td>\n",
       "      <td>-0.229636</td>\n",
       "      <td>-0.797572</td>\n",
       "      <td>-0.221317</td>\n",
       "      <td>-0.157228</td>\n",
       "      <td>-0.804745</td>\n",
       "      <td>-0.740493</td>\n",
       "      <td>0.135111</td>\n",
       "    </tr>\n",
       "    <tr>\n",
       "      <th>2</th>\n",
       "      <td>-1.720632</td>\n",
       "      <td>-1.660707</td>\n",
       "      <td>-1.318841</td>\n",
       "      <td>-1.367902</td>\n",
       "      <td>-1.705360</td>\n",
       "      <td>-0.675514</td>\n",
       "      <td>-0.656297</td>\n",
       "      <td>-1.682990</td>\n",
       "      <td>-1.390649</td>\n",
       "      <td>-1.482221</td>\n",
       "      <td>...</td>\n",
       "      <td>-0.958162</td>\n",
       "      <td>-0.679116</td>\n",
       "      <td>-1.254390</td>\n",
       "      <td>0.085372</td>\n",
       "      <td>-0.929826</td>\n",
       "      <td>0.211912</td>\n",
       "      <td>-0.689569</td>\n",
       "      <td>-1.155416</td>\n",
       "      <td>-0.898144</td>\n",
       "      <td>0.577542</td>\n",
       "    </tr>\n",
       "    <tr>\n",
       "      <th>3</th>\n",
       "      <td>-1.994529</td>\n",
       "      <td>-1.834339</td>\n",
       "      <td>-1.054823</td>\n",
       "      <td>-0.571007</td>\n",
       "      <td>-0.683703</td>\n",
       "      <td>-0.499207</td>\n",
       "      <td>-1.713421</td>\n",
       "      <td>-1.682990</td>\n",
       "      <td>-1.278128</td>\n",
       "      <td>-0.992554</td>\n",
       "      <td>...</td>\n",
       "      <td>-1.009379</td>\n",
       "      <td>-0.870925</td>\n",
       "      <td>-1.247175</td>\n",
       "      <td>-0.116992</td>\n",
       "      <td>-0.303761</td>\n",
       "      <td>0.438058</td>\n",
       "      <td>-0.811221</td>\n",
       "      <td>-1.402590</td>\n",
       "      <td>-0.257834</td>\n",
       "      <td>0.929265</td>\n",
       "    </tr>\n",
       "    <tr>\n",
       "      <th>4</th>\n",
       "      <td>-1.260487</td>\n",
       "      <td>-1.423105</td>\n",
       "      <td>-0.669498</td>\n",
       "      <td>-0.809160</td>\n",
       "      <td>-1.092366</td>\n",
       "      <td>-0.217116</td>\n",
       "      <td>-1.008672</td>\n",
       "      <td>-1.682990</td>\n",
       "      <td>-1.615692</td>\n",
       "      <td>-1.237387</td>\n",
       "      <td>...</td>\n",
       "      <td>-1.284989</td>\n",
       "      <td>-1.069122</td>\n",
       "      <td>-1.252107</td>\n",
       "      <td>0.393383</td>\n",
       "      <td>-0.483799</td>\n",
       "      <td>-0.692122</td>\n",
       "      <td>-1.091386</td>\n",
       "      <td>-1.205445</td>\n",
       "      <td>-0.376883</td>\n",
       "      <td>-0.234833</td>\n",
       "    </tr>\n",
       "  </tbody>\n",
       "</table>\n",
       "<p>5 rows × 649 columns</p>\n",
       "</div>"
      ],
      "text/plain": [
       "      fac_0     fac_1     fac_2     fac_3     fac_4     fac_5     fac_6  \\\n",
       "0 -1.906882 -0.792545 -1.739844 -0.745042 -0.683703 -0.440438 -1.537234   \n",
       "1 -1.654897 -1.185503 -1.197535 -1.312944 -1.133232 -0.228870 -1.096765   \n",
       "2 -1.720632 -1.660707 -1.318841 -1.367902 -1.705360 -0.675514 -0.656297   \n",
       "3 -1.994529 -1.834339 -1.054823 -0.571007 -0.683703 -0.499207 -1.713421   \n",
       "4 -1.260487 -1.423105 -0.669498 -0.809160 -1.092366 -0.217116 -1.008672   \n",
       "\n",
       "      fac_7     fac_8     fac_9  ...    zer_37    zer_38    zer_39    zer_40  \\\n",
       "0 -1.274927 -1.390649 -0.747721  ... -0.862236 -0.160169 -1.564684 -1.633185   \n",
       "1 -1.274927 -1.503170 -1.237387  ... -0.507767 -0.102594 -0.631978 -0.229636   \n",
       "2 -1.682990 -1.390649 -1.482221  ... -0.958162 -0.679116 -1.254390  0.085372   \n",
       "3 -1.682990 -1.278128 -0.992554  ... -1.009379 -0.870925 -1.247175 -0.116992   \n",
       "4 -1.682990 -1.615692 -1.237387  ... -1.284989 -1.069122 -1.252107  0.393383   \n",
       "\n",
       "     zer_41    zer_42    zer_43    zer_44    zer_45    zer_46  \n",
       "0 -0.982319 -0.756905  0.074372 -1.276216 -0.678507  0.426795  \n",
       "1 -0.797572 -0.221317 -0.157228 -0.804745 -0.740493  0.135111  \n",
       "2 -0.929826  0.211912 -0.689569 -1.155416 -0.898144  0.577542  \n",
       "3 -0.303761  0.438058 -0.811221 -1.402590 -0.257834  0.929265  \n",
       "4 -0.483799 -0.692122 -1.091386 -1.205445 -0.376883 -0.234833  \n",
       "\n",
       "[5 rows x 649 columns]"
      ]
     },
     "execution_count": 57,
     "metadata": {},
     "output_type": "execute_result"
    }
   ],
   "source": [
    "#affichage du nouveau data normalisé\n",
    "data_scaling.head()"
   ]
  },
  {
   "cell_type": "code",
   "execution_count": 58,
   "id": "4862ab57",
   "metadata": {},
   "outputs": [
    {
     "name": "stdout",
     "output_type": "stream",
     "text": [
      "Le nombres total d'observations et de variables est : (2000, 649)\n"
     ]
    }
   ],
   "source": [
    "# vérifcation de la taille de données\n",
    "print(\"Le nombres total d'observations et de variables est :\", data_full.shape)"
   ]
  },
  {
   "cell_type": "markdown",
   "id": "990f71c9",
   "metadata": {},
   "source": [
    "### Construction de la variable Target"
   ]
  },
  {
   "cell_type": "code",
   "execution_count": 59,
   "id": "c0dee252",
   "metadata": {},
   "outputs": [],
   "source": [
    "#Les 200 premiers modèles sont de classe '0', suivis d'ensembles de 200 modèles pour chacune des classes '1' - '9'\n",
    "n=0\n",
    "m=200\n",
    "for i in range(10):\n",
    "    if m<=2000:\n",
    "        data_scaling.loc[n:m,'Target']=i\n",
    "        \n",
    "    n+=200\n",
    "    m+=200\n",
    "# Ici pour les données normalisées"
   ]
  },
  {
   "cell_type": "code",
   "execution_count": 60,
   "id": "078b54e6",
   "metadata": {},
   "outputs": [],
   "source": [
    "#Les 200 premiers modèles sont de classe '0', suivis d'ensembles de 200 modèles pour chacune des classes '1' - '9'\n",
    "n=0\n",
    "m=200\n",
    "for i in range(10):\n",
    "    if m<=2000:\n",
    "        data_full.loc[n:m,'Target']=i\n",
    "        \n",
    "    n+=200\n",
    "    m+=200\n",
    "# POur les données brutes"
   ]
  },
  {
   "cell_type": "code",
   "execution_count": 61,
   "id": "03f6711c",
   "metadata": {
    "scrolled": true
   },
   "outputs": [
    {
     "data": {
      "text/plain": [
       "0.0    200\n",
       "1.0    200\n",
       "2.0    200\n",
       "3.0    200\n",
       "4.0    200\n",
       "5.0    200\n",
       "6.0    200\n",
       "7.0    200\n",
       "8.0    200\n",
       "9.0    200\n",
       "Name: Target, dtype: int64"
      ]
     },
     "execution_count": 61,
     "metadata": {},
     "output_type": "execute_result"
    }
   ],
   "source": [
    "# Nous avons 200 chiffres dans chaque classe \n",
    "data_scaling['Target'].value_counts()"
   ]
  },
  {
   "cell_type": "code",
   "execution_count": 62,
   "id": "31df5408",
   "metadata": {},
   "outputs": [
    {
     "data": {
      "text/html": [
       "<div>\n",
       "<style scoped>\n",
       "    .dataframe tbody tr th:only-of-type {\n",
       "        vertical-align: middle;\n",
       "    }\n",
       "\n",
       "    .dataframe tbody tr th {\n",
       "        vertical-align: top;\n",
       "    }\n",
       "\n",
       "    .dataframe thead th {\n",
       "        text-align: right;\n",
       "    }\n",
       "</style>\n",
       "<table border=\"1\" class=\"dataframe\">\n",
       "  <thead>\n",
       "    <tr style=\"text-align: right;\">\n",
       "      <th></th>\n",
       "      <th>fac_0</th>\n",
       "      <th>fac_1</th>\n",
       "      <th>fac_2</th>\n",
       "      <th>fac_3</th>\n",
       "      <th>fac_4</th>\n",
       "      <th>fac_5</th>\n",
       "      <th>fac_6</th>\n",
       "      <th>fac_7</th>\n",
       "      <th>fac_8</th>\n",
       "      <th>fac_9</th>\n",
       "      <th>...</th>\n",
       "      <th>zer_38</th>\n",
       "      <th>zer_39</th>\n",
       "      <th>zer_40</th>\n",
       "      <th>zer_41</th>\n",
       "      <th>zer_42</th>\n",
       "      <th>zer_43</th>\n",
       "      <th>zer_44</th>\n",
       "      <th>zer_45</th>\n",
       "      <th>zer_46</th>\n",
       "      <th>Target</th>\n",
       "    </tr>\n",
       "  </thead>\n",
       "  <tbody>\n",
       "    <tr>\n",
       "      <th>0</th>\n",
       "      <td>-1.906882</td>\n",
       "      <td>-0.792545</td>\n",
       "      <td>-1.739844</td>\n",
       "      <td>-0.745042</td>\n",
       "      <td>-0.683703</td>\n",
       "      <td>-0.440438</td>\n",
       "      <td>-1.537234</td>\n",
       "      <td>-1.274927</td>\n",
       "      <td>-1.390649</td>\n",
       "      <td>-0.747721</td>\n",
       "      <td>...</td>\n",
       "      <td>-0.160169</td>\n",
       "      <td>-1.564684</td>\n",
       "      <td>-1.633185</td>\n",
       "      <td>-0.982319</td>\n",
       "      <td>-0.756905</td>\n",
       "      <td>0.074372</td>\n",
       "      <td>-1.276216</td>\n",
       "      <td>-0.678507</td>\n",
       "      <td>0.426795</td>\n",
       "      <td>0.0</td>\n",
       "    </tr>\n",
       "    <tr>\n",
       "      <th>1</th>\n",
       "      <td>-1.654897</td>\n",
       "      <td>-1.185503</td>\n",
       "      <td>-1.197535</td>\n",
       "      <td>-1.312944</td>\n",
       "      <td>-1.133232</td>\n",
       "      <td>-0.228870</td>\n",
       "      <td>-1.096765</td>\n",
       "      <td>-1.274927</td>\n",
       "      <td>-1.503170</td>\n",
       "      <td>-1.237387</td>\n",
       "      <td>...</td>\n",
       "      <td>-0.102594</td>\n",
       "      <td>-0.631978</td>\n",
       "      <td>-0.229636</td>\n",
       "      <td>-0.797572</td>\n",
       "      <td>-0.221317</td>\n",
       "      <td>-0.157228</td>\n",
       "      <td>-0.804745</td>\n",
       "      <td>-0.740493</td>\n",
       "      <td>0.135111</td>\n",
       "      <td>0.0</td>\n",
       "    </tr>\n",
       "    <tr>\n",
       "      <th>2</th>\n",
       "      <td>-1.720632</td>\n",
       "      <td>-1.660707</td>\n",
       "      <td>-1.318841</td>\n",
       "      <td>-1.367902</td>\n",
       "      <td>-1.705360</td>\n",
       "      <td>-0.675514</td>\n",
       "      <td>-0.656297</td>\n",
       "      <td>-1.682990</td>\n",
       "      <td>-1.390649</td>\n",
       "      <td>-1.482221</td>\n",
       "      <td>...</td>\n",
       "      <td>-0.679116</td>\n",
       "      <td>-1.254390</td>\n",
       "      <td>0.085372</td>\n",
       "      <td>-0.929826</td>\n",
       "      <td>0.211912</td>\n",
       "      <td>-0.689569</td>\n",
       "      <td>-1.155416</td>\n",
       "      <td>-0.898144</td>\n",
       "      <td>0.577542</td>\n",
       "      <td>0.0</td>\n",
       "    </tr>\n",
       "    <tr>\n",
       "      <th>3</th>\n",
       "      <td>-1.994529</td>\n",
       "      <td>-1.834339</td>\n",
       "      <td>-1.054823</td>\n",
       "      <td>-0.571007</td>\n",
       "      <td>-0.683703</td>\n",
       "      <td>-0.499207</td>\n",
       "      <td>-1.713421</td>\n",
       "      <td>-1.682990</td>\n",
       "      <td>-1.278128</td>\n",
       "      <td>-0.992554</td>\n",
       "      <td>...</td>\n",
       "      <td>-0.870925</td>\n",
       "      <td>-1.247175</td>\n",
       "      <td>-0.116992</td>\n",
       "      <td>-0.303761</td>\n",
       "      <td>0.438058</td>\n",
       "      <td>-0.811221</td>\n",
       "      <td>-1.402590</td>\n",
       "      <td>-0.257834</td>\n",
       "      <td>0.929265</td>\n",
       "      <td>0.0</td>\n",
       "    </tr>\n",
       "    <tr>\n",
       "      <th>4</th>\n",
       "      <td>-1.260487</td>\n",
       "      <td>-1.423105</td>\n",
       "      <td>-0.669498</td>\n",
       "      <td>-0.809160</td>\n",
       "      <td>-1.092366</td>\n",
       "      <td>-0.217116</td>\n",
       "      <td>-1.008672</td>\n",
       "      <td>-1.682990</td>\n",
       "      <td>-1.615692</td>\n",
       "      <td>-1.237387</td>\n",
       "      <td>...</td>\n",
       "      <td>-1.069122</td>\n",
       "      <td>-1.252107</td>\n",
       "      <td>0.393383</td>\n",
       "      <td>-0.483799</td>\n",
       "      <td>-0.692122</td>\n",
       "      <td>-1.091386</td>\n",
       "      <td>-1.205445</td>\n",
       "      <td>-0.376883</td>\n",
       "      <td>-0.234833</td>\n",
       "      <td>0.0</td>\n",
       "    </tr>\n",
       "    <tr>\n",
       "      <th>...</th>\n",
       "      <td>...</td>\n",
       "      <td>...</td>\n",
       "      <td>...</td>\n",
       "      <td>...</td>\n",
       "      <td>...</td>\n",
       "      <td>...</td>\n",
       "      <td>...</td>\n",
       "      <td>...</td>\n",
       "      <td>...</td>\n",
       "      <td>...</td>\n",
       "      <td>...</td>\n",
       "      <td>...</td>\n",
       "      <td>...</td>\n",
       "      <td>...</td>\n",
       "      <td>...</td>\n",
       "      <td>...</td>\n",
       "      <td>...</td>\n",
       "      <td>...</td>\n",
       "      <td>...</td>\n",
       "      <td>...</td>\n",
       "      <td>...</td>\n",
       "    </tr>\n",
       "    <tr>\n",
       "      <th>1995</th>\n",
       "      <td>0.350023</td>\n",
       "      <td>-0.737714</td>\n",
       "      <td>1.085870</td>\n",
       "      <td>-1.175548</td>\n",
       "      <td>-1.562328</td>\n",
       "      <td>-0.123086</td>\n",
       "      <td>0.488920</td>\n",
       "      <td>-0.186757</td>\n",
       "      <td>-1.728213</td>\n",
       "      <td>-0.502888</td>\n",
       "      <td>...</td>\n",
       "      <td>-0.041862</td>\n",
       "      <td>1.809260</td>\n",
       "      <td>-0.308779</td>\n",
       "      <td>-1.078341</td>\n",
       "      <td>-0.054765</td>\n",
       "      <td>-0.078787</td>\n",
       "      <td>1.275978</td>\n",
       "      <td>-0.988880</td>\n",
       "      <td>-0.103721</td>\n",
       "      <td>9.0</td>\n",
       "    </tr>\n",
       "    <tr>\n",
       "      <th>1996</th>\n",
       "      <td>0.569140</td>\n",
       "      <td>0.066478</td>\n",
       "      <td>1.028785</td>\n",
       "      <td>-0.378653</td>\n",
       "      <td>-0.642837</td>\n",
       "      <td>0.100236</td>\n",
       "      <td>0.753200</td>\n",
       "      <td>-0.322778</td>\n",
       "      <td>-0.828043</td>\n",
       "      <td>-0.013221</td>\n",
       "      <td>...</td>\n",
       "      <td>-1.090227</td>\n",
       "      <td>1.731325</td>\n",
       "      <td>-0.067873</td>\n",
       "      <td>0.052504</td>\n",
       "      <td>-0.474398</td>\n",
       "      <td>-1.152910</td>\n",
       "      <td>1.447529</td>\n",
       "      <td>-0.062810</td>\n",
       "      <td>-0.372834</td>\n",
       "      <td>9.0</td>\n",
       "    </tr>\n",
       "    <tr>\n",
       "      <th>1997</th>\n",
       "      <td>0.711566</td>\n",
       "      <td>-0.216817</td>\n",
       "      <td>0.550697</td>\n",
       "      <td>-0.277896</td>\n",
       "      <td>-1.214964</td>\n",
       "      <td>-0.287639</td>\n",
       "      <td>0.224639</td>\n",
       "      <td>-0.594821</td>\n",
       "      <td>-0.603001</td>\n",
       "      <td>0.231612</td>\n",
       "      <td>...</td>\n",
       "      <td>-0.543326</td>\n",
       "      <td>0.169873</td>\n",
       "      <td>-0.342529</td>\n",
       "      <td>-1.610651</td>\n",
       "      <td>-0.410744</td>\n",
       "      <td>-0.672949</td>\n",
       "      <td>0.289586</td>\n",
       "      <td>-1.573826</td>\n",
       "      <td>-1.103512</td>\n",
       "      <td>9.0</td>\n",
       "    </tr>\n",
       "    <tr>\n",
       "      <th>1998</th>\n",
       "      <td>-0.274460</td>\n",
       "      <td>-0.564081</td>\n",
       "      <td>0.650596</td>\n",
       "      <td>-1.111430</td>\n",
       "      <td>-1.541895</td>\n",
       "      <td>-0.816560</td>\n",
       "      <td>0.400826</td>\n",
       "      <td>-0.458799</td>\n",
       "      <td>-1.503170</td>\n",
       "      <td>-1.237387</td>\n",
       "      <td>...</td>\n",
       "      <td>1.144098</td>\n",
       "      <td>0.974136</td>\n",
       "      <td>-1.057371</td>\n",
       "      <td>-1.195390</td>\n",
       "      <td>0.908713</td>\n",
       "      <td>1.017944</td>\n",
       "      <td>0.774183</td>\n",
       "      <td>-1.203794</td>\n",
       "      <td>0.880515</td>\n",
       "      <td>9.0</td>\n",
       "    </tr>\n",
       "    <tr>\n",
       "      <th>1999</th>\n",
       "      <td>0.908771</td>\n",
       "      <td>0.514267</td>\n",
       "      <td>0.657731</td>\n",
       "      <td>0.656394</td>\n",
       "      <td>-0.050276</td>\n",
       "      <td>0.629157</td>\n",
       "      <td>0.665107</td>\n",
       "      <td>0.221306</td>\n",
       "      <td>0.072126</td>\n",
       "      <td>-0.992554</td>\n",
       "      <td>...</td>\n",
       "      <td>-1.162831</td>\n",
       "      <td>1.086051</td>\n",
       "      <td>-0.666881</td>\n",
       "      <td>-0.974143</td>\n",
       "      <td>-0.647084</td>\n",
       "      <td>-0.896836</td>\n",
       "      <td>1.415397</td>\n",
       "      <td>-0.980450</td>\n",
       "      <td>-1.418588</td>\n",
       "      <td>9.0</td>\n",
       "    </tr>\n",
       "  </tbody>\n",
       "</table>\n",
       "<p>2000 rows × 650 columns</p>\n",
       "</div>"
      ],
      "text/plain": [
       "         fac_0     fac_1     fac_2     fac_3     fac_4     fac_5     fac_6  \\\n",
       "0    -1.906882 -0.792545 -1.739844 -0.745042 -0.683703 -0.440438 -1.537234   \n",
       "1    -1.654897 -1.185503 -1.197535 -1.312944 -1.133232 -0.228870 -1.096765   \n",
       "2    -1.720632 -1.660707 -1.318841 -1.367902 -1.705360 -0.675514 -0.656297   \n",
       "3    -1.994529 -1.834339 -1.054823 -0.571007 -0.683703 -0.499207 -1.713421   \n",
       "4    -1.260487 -1.423105 -0.669498 -0.809160 -1.092366 -0.217116 -1.008672   \n",
       "...        ...       ...       ...       ...       ...       ...       ...   \n",
       "1995  0.350023 -0.737714  1.085870 -1.175548 -1.562328 -0.123086  0.488920   \n",
       "1996  0.569140  0.066478  1.028785 -0.378653 -0.642837  0.100236  0.753200   \n",
       "1997  0.711566 -0.216817  0.550697 -0.277896 -1.214964 -0.287639  0.224639   \n",
       "1998 -0.274460 -0.564081  0.650596 -1.111430 -1.541895 -0.816560  0.400826   \n",
       "1999  0.908771  0.514267  0.657731  0.656394 -0.050276  0.629157  0.665107   \n",
       "\n",
       "         fac_7     fac_8     fac_9  ...    zer_38    zer_39    zer_40  \\\n",
       "0    -1.274927 -1.390649 -0.747721  ... -0.160169 -1.564684 -1.633185   \n",
       "1    -1.274927 -1.503170 -1.237387  ... -0.102594 -0.631978 -0.229636   \n",
       "2    -1.682990 -1.390649 -1.482221  ... -0.679116 -1.254390  0.085372   \n",
       "3    -1.682990 -1.278128 -0.992554  ... -0.870925 -1.247175 -0.116992   \n",
       "4    -1.682990 -1.615692 -1.237387  ... -1.069122 -1.252107  0.393383   \n",
       "...        ...       ...       ...  ...       ...       ...       ...   \n",
       "1995 -0.186757 -1.728213 -0.502888  ... -0.041862  1.809260 -0.308779   \n",
       "1996 -0.322778 -0.828043 -0.013221  ... -1.090227  1.731325 -0.067873   \n",
       "1997 -0.594821 -0.603001  0.231612  ... -0.543326  0.169873 -0.342529   \n",
       "1998 -0.458799 -1.503170 -1.237387  ...  1.144098  0.974136 -1.057371   \n",
       "1999  0.221306  0.072126 -0.992554  ... -1.162831  1.086051 -0.666881   \n",
       "\n",
       "        zer_41    zer_42    zer_43    zer_44    zer_45    zer_46  Target  \n",
       "0    -0.982319 -0.756905  0.074372 -1.276216 -0.678507  0.426795     0.0  \n",
       "1    -0.797572 -0.221317 -0.157228 -0.804745 -0.740493  0.135111     0.0  \n",
       "2    -0.929826  0.211912 -0.689569 -1.155416 -0.898144  0.577542     0.0  \n",
       "3    -0.303761  0.438058 -0.811221 -1.402590 -0.257834  0.929265     0.0  \n",
       "4    -0.483799 -0.692122 -1.091386 -1.205445 -0.376883 -0.234833     0.0  \n",
       "...        ...       ...       ...       ...       ...       ...     ...  \n",
       "1995 -1.078341 -0.054765 -0.078787  1.275978 -0.988880 -0.103721     9.0  \n",
       "1996  0.052504 -0.474398 -1.152910  1.447529 -0.062810 -0.372834     9.0  \n",
       "1997 -1.610651 -0.410744 -0.672949  0.289586 -1.573826 -1.103512     9.0  \n",
       "1998 -1.195390  0.908713  1.017944  0.774183 -1.203794  0.880515     9.0  \n",
       "1999 -0.974143 -0.647084 -0.896836  1.415397 -0.980450 -1.418588     9.0  \n",
       "\n",
       "[2000 rows x 650 columns]"
      ]
     },
     "execution_count": 62,
     "metadata": {},
     "output_type": "execute_result"
    }
   ],
   "source": [
    "data_scaling"
   ]
  },
  {
   "cell_type": "markdown",
   "id": "f0c9e3cb",
   "metadata": {},
   "source": [
    "## `Analyse et Exploration` "
   ]
  },
  {
   "cell_type": "code",
   "execution_count": 63,
   "id": "1d57d6cc",
   "metadata": {},
   "outputs": [
    {
     "data": {
      "text/plain": [
       "<AxesSubplot:xlabel='Target', ylabel='Density'>"
      ]
     },
     "execution_count": 63,
     "metadata": {},
     "output_type": "execute_result"
    },
    {
     "data": {
      "image/png": "[encoded data removed]",
      "text/plain": [
       "<Figure size 432x288 with 1 Axes>"
      ]
     },
     "metadata": {
      "needs_background": "light"
     },
     "output_type": "display_data"
    }
   ],
   "source": [
    "sns.distplot(data_scaling['Target'])"
   ]
  },
  {
   "cell_type": "markdown",
   "id": "23364fe3",
   "metadata": {},
   "source": [
    "Partant de ce graphe , nous observons  que les donnéees sont proportionnelles. Donc Les classes sont équilibrées"
   ]
  },
  {
   "cell_type": "markdown",
   "id": "a9957a6e",
   "metadata": {},
   "source": [
    "### Tendance uniforme de la moyenne des classes"
   ]
  },
  {
   "cell_type": "code",
   "execution_count": 64,
   "id": "71a33de7",
   "metadata": {
    "scrolled": true
   },
   "outputs": [
    {
     "data": {
      "image/png": "[encoded data removed]",
      "text/plain": [
       "<Figure size 432x432 with 1 Axes>"
      ]
     },
     "metadata": {
      "needs_background": "light"
     },
     "output_type": "display_data"
    }
   ],
   "source": [
    "plt.figure(1,figsize=(6,6))\n",
    "for i in range(10):\n",
    "    plt.plot(data_full[data_full['Target']==i].describe().T['mean'].head(20), label=('mean{}'.format(i)))\n",
    "    plt.legend()"
   ]
  },
  {
   "cell_type": "markdown",
   "id": "66839e51",
   "metadata": {},
   "source": [
    "les courbes de la moyenne de chaque classe ont la même  allure, ce qui explique la ressemblance des classes\n",
    "en termes de nombre d'individus "
   ]
  },
  {
   "cell_type": "markdown",
   "id": "493ab62d",
   "metadata": {},
   "source": [
    "### Etude de correlation entre variables"
   ]
  },
  {
   "cell_type": "code",
   "execution_count": 65,
   "id": "3416540e",
   "metadata": {},
   "outputs": [
    {
     "data": {
      "text/html": [
       "<div>\n",
       "<style scoped>\n",
       "    .dataframe tbody tr th:only-of-type {\n",
       "        vertical-align: middle;\n",
       "    }\n",
       "\n",
       "    .dataframe tbody tr th {\n",
       "        vertical-align: top;\n",
       "    }\n",
       "\n",
       "    .dataframe thead th {\n",
       "        text-align: right;\n",
       "    }\n",
       "</style>\n",
       "<table border=\"1\" class=\"dataframe\">\n",
       "  <thead>\n",
       "    <tr style=\"text-align: right;\">\n",
       "      <th></th>\n",
       "      <th>fac_0</th>\n",
       "      <th>fac_1</th>\n",
       "      <th>fac_2</th>\n",
       "      <th>fac_3</th>\n",
       "      <th>fac_4</th>\n",
       "      <th>fac_5</th>\n",
       "      <th>fac_6</th>\n",
       "      <th>fac_7</th>\n",
       "      <th>fac_8</th>\n",
       "      <th>fac_9</th>\n",
       "      <th>...</th>\n",
       "      <th>zer_38</th>\n",
       "      <th>zer_39</th>\n",
       "      <th>zer_40</th>\n",
       "      <th>zer_41</th>\n",
       "      <th>zer_42</th>\n",
       "      <th>zer_43</th>\n",
       "      <th>zer_44</th>\n",
       "      <th>zer_45</th>\n",
       "      <th>zer_46</th>\n",
       "      <th>Target</th>\n",
       "    </tr>\n",
       "  </thead>\n",
       "  <tbody>\n",
       "    <tr>\n",
       "      <th>fac_0</th>\n",
       "      <td>1.0</td>\n",
       "      <td>0.5</td>\n",
       "      <td>0.6</td>\n",
       "      <td>0.5</td>\n",
       "      <td>0.3</td>\n",
       "      <td>0.2</td>\n",
       "      <td>0.5</td>\n",
       "      <td>0.3</td>\n",
       "      <td>0.5</td>\n",
       "      <td>0.4</td>\n",
       "      <td>...</td>\n",
       "      <td>0.1</td>\n",
       "      <td>0.5</td>\n",
       "      <td>0.1</td>\n",
       "      <td>-0.1</td>\n",
       "      <td>-0.4</td>\n",
       "      <td>0.1</td>\n",
       "      <td>0.6</td>\n",
       "      <td>-0.1</td>\n",
       "      <td>-0.7</td>\n",
       "      <td>0.3</td>\n",
       "    </tr>\n",
       "    <tr>\n",
       "      <th>fac_1</th>\n",
       "      <td>0.5</td>\n",
       "      <td>1.0</td>\n",
       "      <td>0.6</td>\n",
       "      <td>0.4</td>\n",
       "      <td>0.3</td>\n",
       "      <td>0.3</td>\n",
       "      <td>0.8</td>\n",
       "      <td>0.6</td>\n",
       "      <td>0.5</td>\n",
       "      <td>0.5</td>\n",
       "      <td>...</td>\n",
       "      <td>0.4</td>\n",
       "      <td>0.4</td>\n",
       "      <td>0.2</td>\n",
       "      <td>0.2</td>\n",
       "      <td>-0.1</td>\n",
       "      <td>0.4</td>\n",
       "      <td>0.4</td>\n",
       "      <td>0.2</td>\n",
       "      <td>-0.4</td>\n",
       "      <td>-0.1</td>\n",
       "    </tr>\n",
       "    <tr>\n",
       "      <th>fac_2</th>\n",
       "      <td>0.6</td>\n",
       "      <td>0.6</td>\n",
       "      <td>1.0</td>\n",
       "      <td>-0.1</td>\n",
       "      <td>0.1</td>\n",
       "      <td>0.3</td>\n",
       "      <td>0.9</td>\n",
       "      <td>0.3</td>\n",
       "      <td>0.1</td>\n",
       "      <td>0.4</td>\n",
       "      <td>...</td>\n",
       "      <td>0.4</td>\n",
       "      <td>0.5</td>\n",
       "      <td>0.1</td>\n",
       "      <td>0.1</td>\n",
       "      <td>-0.2</td>\n",
       "      <td>0.4</td>\n",
       "      <td>0.5</td>\n",
       "      <td>0.1</td>\n",
       "      <td>-0.5</td>\n",
       "      <td>0.1</td>\n",
       "    </tr>\n",
       "    <tr>\n",
       "      <th>fac_3</th>\n",
       "      <td>0.5</td>\n",
       "      <td>0.4</td>\n",
       "      <td>-0.1</td>\n",
       "      <td>1.0</td>\n",
       "      <td>0.5</td>\n",
       "      <td>0.1</td>\n",
       "      <td>-0.0</td>\n",
       "      <td>0.3</td>\n",
       "      <td>0.8</td>\n",
       "      <td>0.1</td>\n",
       "      <td>...</td>\n",
       "      <td>-0.1</td>\n",
       "      <td>0.1</td>\n",
       "      <td>0.4</td>\n",
       "      <td>0.2</td>\n",
       "      <td>-0.3</td>\n",
       "      <td>-0.1</td>\n",
       "      <td>0.2</td>\n",
       "      <td>0.2</td>\n",
       "      <td>-0.5</td>\n",
       "      <td>0.1</td>\n",
       "    </tr>\n",
       "    <tr>\n",
       "      <th>fac_4</th>\n",
       "      <td>0.3</td>\n",
       "      <td>0.3</td>\n",
       "      <td>0.1</td>\n",
       "      <td>0.5</td>\n",
       "      <td>1.0</td>\n",
       "      <td>0.1</td>\n",
       "      <td>0.1</td>\n",
       "      <td>0.2</td>\n",
       "      <td>0.5</td>\n",
       "      <td>0.2</td>\n",
       "      <td>...</td>\n",
       "      <td>-0.1</td>\n",
       "      <td>0.2</td>\n",
       "      <td>0.2</td>\n",
       "      <td>0.3</td>\n",
       "      <td>-0.3</td>\n",
       "      <td>-0.1</td>\n",
       "      <td>0.2</td>\n",
       "      <td>0.3</td>\n",
       "      <td>-0.3</td>\n",
       "      <td>0.0</td>\n",
       "    </tr>\n",
       "    <tr>\n",
       "      <th>...</th>\n",
       "      <td>...</td>\n",
       "      <td>...</td>\n",
       "      <td>...</td>\n",
       "      <td>...</td>\n",
       "      <td>...</td>\n",
       "      <td>...</td>\n",
       "      <td>...</td>\n",
       "      <td>...</td>\n",
       "      <td>...</td>\n",
       "      <td>...</td>\n",
       "      <td>...</td>\n",
       "      <td>...</td>\n",
       "      <td>...</td>\n",
       "      <td>...</td>\n",
       "      <td>...</td>\n",
       "      <td>...</td>\n",
       "      <td>...</td>\n",
       "      <td>...</td>\n",
       "      <td>...</td>\n",
       "      <td>...</td>\n",
       "      <td>...</td>\n",
       "    </tr>\n",
       "    <tr>\n",
       "      <th>zer_43</th>\n",
       "      <td>0.1</td>\n",
       "      <td>0.4</td>\n",
       "      <td>0.4</td>\n",
       "      <td>-0.1</td>\n",
       "      <td>-0.1</td>\n",
       "      <td>-0.1</td>\n",
       "      <td>0.4</td>\n",
       "      <td>0.4</td>\n",
       "      <td>-0.0</td>\n",
       "      <td>0.3</td>\n",
       "      <td>...</td>\n",
       "      <td>1.0</td>\n",
       "      <td>0.3</td>\n",
       "      <td>-0.2</td>\n",
       "      <td>-0.2</td>\n",
       "      <td>0.3</td>\n",
       "      <td>1.0</td>\n",
       "      <td>0.3</td>\n",
       "      <td>-0.2</td>\n",
       "      <td>0.1</td>\n",
       "      <td>-0.2</td>\n",
       "    </tr>\n",
       "    <tr>\n",
       "      <th>zer_44</th>\n",
       "      <td>0.6</td>\n",
       "      <td>0.4</td>\n",
       "      <td>0.5</td>\n",
       "      <td>0.2</td>\n",
       "      <td>0.2</td>\n",
       "      <td>0.2</td>\n",
       "      <td>0.4</td>\n",
       "      <td>0.2</td>\n",
       "      <td>0.1</td>\n",
       "      <td>0.2</td>\n",
       "      <td>...</td>\n",
       "      <td>0.3</td>\n",
       "      <td>0.9</td>\n",
       "      <td>-0.1</td>\n",
       "      <td>-0.2</td>\n",
       "      <td>-0.1</td>\n",
       "      <td>0.3</td>\n",
       "      <td>1.0</td>\n",
       "      <td>-0.2</td>\n",
       "      <td>-0.3</td>\n",
       "      <td>0.3</td>\n",
       "    </tr>\n",
       "    <tr>\n",
       "      <th>zer_45</th>\n",
       "      <td>-0.1</td>\n",
       "      <td>0.2</td>\n",
       "      <td>0.1</td>\n",
       "      <td>0.2</td>\n",
       "      <td>0.3</td>\n",
       "      <td>0.6</td>\n",
       "      <td>0.1</td>\n",
       "      <td>0.1</td>\n",
       "      <td>0.3</td>\n",
       "      <td>-0.1</td>\n",
       "      <td>...</td>\n",
       "      <td>-0.2</td>\n",
       "      <td>-0.2</td>\n",
       "      <td>0.3</td>\n",
       "      <td>1.0</td>\n",
       "      <td>-0.4</td>\n",
       "      <td>-0.2</td>\n",
       "      <td>-0.2</td>\n",
       "      <td>1.0</td>\n",
       "      <td>-0.1</td>\n",
       "      <td>-0.1</td>\n",
       "    </tr>\n",
       "    <tr>\n",
       "      <th>zer_46</th>\n",
       "      <td>-0.7</td>\n",
       "      <td>-0.4</td>\n",
       "      <td>-0.5</td>\n",
       "      <td>-0.5</td>\n",
       "      <td>-0.3</td>\n",
       "      <td>-0.4</td>\n",
       "      <td>-0.4</td>\n",
       "      <td>-0.0</td>\n",
       "      <td>-0.5</td>\n",
       "      <td>-0.2</td>\n",
       "      <td>...</td>\n",
       "      <td>0.1</td>\n",
       "      <td>-0.2</td>\n",
       "      <td>-0.2</td>\n",
       "      <td>-0.0</td>\n",
       "      <td>0.8</td>\n",
       "      <td>0.1</td>\n",
       "      <td>-0.3</td>\n",
       "      <td>-0.1</td>\n",
       "      <td>1.0</td>\n",
       "      <td>-0.2</td>\n",
       "    </tr>\n",
       "    <tr>\n",
       "      <th>Target</th>\n",
       "      <td>0.3</td>\n",
       "      <td>-0.1</td>\n",
       "      <td>0.1</td>\n",
       "      <td>0.1</td>\n",
       "      <td>0.0</td>\n",
       "      <td>0.2</td>\n",
       "      <td>0.0</td>\n",
       "      <td>0.1</td>\n",
       "      <td>0.1</td>\n",
       "      <td>-0.1</td>\n",
       "      <td>...</td>\n",
       "      <td>-0.2</td>\n",
       "      <td>0.2</td>\n",
       "      <td>-0.1</td>\n",
       "      <td>-0.1</td>\n",
       "      <td>-0.1</td>\n",
       "      <td>-0.2</td>\n",
       "      <td>0.3</td>\n",
       "      <td>-0.1</td>\n",
       "      <td>-0.2</td>\n",
       "      <td>1.0</td>\n",
       "    </tr>\n",
       "  </tbody>\n",
       "</table>\n",
       "<p>650 rows × 650 columns</p>\n",
       "</div>"
      ],
      "text/plain": [
       "        fac_0  fac_1  fac_2  fac_3  fac_4  fac_5  fac_6  fac_7  fac_8  fac_9  \\\n",
       "fac_0     1.0    0.5    0.6    0.5    0.3    0.2    0.5    0.3    0.5    0.4   \n",
       "fac_1     0.5    1.0    0.6    0.4    0.3    0.3    0.8    0.6    0.5    0.5   \n",
       "fac_2     0.6    0.6    1.0   -0.1    0.1    0.3    0.9    0.3    0.1    0.4   \n",
       "fac_3     0.5    0.4   -0.1    1.0    0.5    0.1   -0.0    0.3    0.8    0.1   \n",
       "fac_4     0.3    0.3    0.1    0.5    1.0    0.1    0.1    0.2    0.5    0.2   \n",
       "...       ...    ...    ...    ...    ...    ...    ...    ...    ...    ...   \n",
       "zer_43    0.1    0.4    0.4   -0.1   -0.1   -0.1    0.4    0.4   -0.0    0.3   \n",
       "zer_44    0.6    0.4    0.5    0.2    0.2    0.2    0.4    0.2    0.1    0.2   \n",
       "zer_45   -0.1    0.2    0.1    0.2    0.3    0.6    0.1    0.1    0.3   -0.1   \n",
       "zer_46   -0.7   -0.4   -0.5   -0.5   -0.3   -0.4   -0.4   -0.0   -0.5   -0.2   \n",
       "Target    0.3   -0.1    0.1    0.1    0.0    0.2    0.0    0.1    0.1   -0.1   \n",
       "\n",
       "        ...  zer_38  zer_39  zer_40  zer_41  zer_42  zer_43  zer_44  zer_45  \\\n",
       "fac_0   ...     0.1     0.5     0.1    -0.1    -0.4     0.1     0.6    -0.1   \n",
       "fac_1   ...     0.4     0.4     0.2     0.2    -0.1     0.4     0.4     0.2   \n",
       "fac_2   ...     0.4     0.5     0.1     0.1    -0.2     0.4     0.5     0.1   \n",
       "fac_3   ...    -0.1     0.1     0.4     0.2    -0.3    -0.1     0.2     0.2   \n",
       "fac_4   ...    -0.1     0.2     0.2     0.3    -0.3    -0.1     0.2     0.3   \n",
       "...     ...     ...     ...     ...     ...     ...     ...     ...     ...   \n",
       "zer_43  ...     1.0     0.3    -0.2    -0.2     0.3     1.0     0.3    -0.2   \n",
       "zer_44  ...     0.3     0.9    -0.1    -0.2    -0.1     0.3     1.0    -0.2   \n",
       "zer_45  ...    -0.2    -0.2     0.3     1.0    -0.4    -0.2    -0.2     1.0   \n",
       "zer_46  ...     0.1    -0.2    -0.2    -0.0     0.8     0.1    -0.3    -0.1   \n",
       "Target  ...    -0.2     0.2    -0.1    -0.1    -0.1    -0.2     0.3    -0.1   \n",
       "\n",
       "        zer_46  Target  \n",
       "fac_0     -0.7     0.3  \n",
       "fac_1     -0.4    -0.1  \n",
       "fac_2     -0.5     0.1  \n",
       "fac_3     -0.5     0.1  \n",
       "fac_4     -0.3     0.0  \n",
       "...        ...     ...  \n",
       "zer_43     0.1    -0.2  \n",
       "zer_44    -0.3     0.3  \n",
       "zer_45    -0.1    -0.1  \n",
       "zer_46     1.0    -0.2  \n",
       "Target    -0.2     1.0  \n",
       "\n",
       "[650 rows x 650 columns]"
      ]
     },
     "execution_count": 65,
     "metadata": {},
     "output_type": "execute_result"
    }
   ],
   "source": [
    "correlation = data_full.corr().round(1)\n",
    "correlation"
   ]
  },
  {
   "cell_type": "code",
   "execution_count": 66,
   "id": "95c9f791",
   "metadata": {},
   "outputs": [
    {
     "data": {
      "image/png": "[encoded data removed]",
      "text/plain": [
       "<Figure size 576x432 with 2 Axes>"
      ]
     },
     "metadata": {
      "needs_background": "light"
     },
     "output_type": "display_data"
    }
   ],
   "source": [
    "plt.figure(figsize=(8,6))\n",
    "plt.title('coorrelation des variables')\n",
    "sn.heatmap(correlation, xticklabels=correlation.columns, yticklabels=correlation.columns)\n",
    "plt.show()"
   ]
  },
  {
   "cell_type": "markdown",
   "id": "e15b1144",
   "metadata": {},
   "source": [
    "On constate que les variables sont faiblement correlées. "
   ]
  },
  {
   "cell_type": "markdown",
   "id": "027de2f9",
   "metadata": {},
   "source": [
    "## `Dévéloppement des Modèles`"
   ]
  },
  {
   "cell_type": "markdown",
   "id": "2fdcaa14",
   "metadata": {},
   "source": [
    "###   Construction des données d'apprentissage."
   ]
  },
  {
   "cell_type": "code",
   "execution_count": 67,
   "id": "b26827b7",
   "metadata": {},
   "outputs": [],
   "source": [
    "X=data_scaling.iloc[:,:data_scaling.shape[1]-1]\n",
    "Y=data_scaling['Target']"
   ]
  },
  {
   "cell_type": "markdown",
   "id": "8564349e",
   "metadata": {},
   "source": [
    "#### Récupération de  X et Y pour chaque classe "
   ]
  },
  {
   "cell_type": "code",
   "execution_count": 68,
   "id": "e52a3e99",
   "metadata": {},
   "outputs": [],
   "source": [
    "n=0\n",
    "m=200\n",
    "x=[]\n",
    "for i in range(10):\n",
    "    if m<=2000:\n",
    "        x.append(X.iloc[n:m,:])\n",
    "        \n",
    "    n+=200\n",
    "    m+=200\n",
    "#-------------------------------\n",
    "n=0\n",
    "m=200\n",
    "y=[]\n",
    "for i in range(10):\n",
    "    if m<=2000:\n",
    "        y.append(Y.iloc[n:m])      \n",
    "    n+=200\n",
    "    m+=200"
   ]
  },
  {
   "cell_type": "markdown",
   "id": "68bcb1e7",
   "metadata": {},
   "source": [
    "#### Creation des trainingset et Testset"
   ]
  },
  {
   "cell_type": "code",
   "execution_count": 72,
   "id": "4c4803e1",
   "metadata": {},
   "outputs": [],
   "source": [
    "x_train=[];y_train=[];x_test=[];y_test=[]\n",
    "#-----------------------------------------\n",
    "\n",
    "for i in range(10):\n",
    "    p=train_test_split(x[i],y[i],test_size=0.3, random_state=42)\n",
    "    x_train.append(p[0])\n",
    "    x_test.append(p[1])\n",
    "    y_train.append(p[2])\n",
    "    y_test.append(p[3])\n",
    "\n",
    "#---------------------------------------------\n",
    "X_train=pd.concat(x_train)\n",
    "Y_train=pd.concat(y_train)\n",
    "X_test=pd.concat(x_test)\n",
    "Y_test=pd.concat(y_test)\n",
    "\n",
    "# ----------------------------------------------------------------------\n",
    "X_val_train = [];X_val_test=[];Y_val_train=[]; Y_val_test=[]\n",
    "#-----------------------------------------\n",
    "\n",
    "for i in range(10):\n",
    "    p=train_test_split(x[i],y[i],test_size=0.2, random_state=42)\n",
    "    X_val_train.append(p[0])\n",
    "    X_val_test.append(p[1])\n",
    "    Y_val_train.append(p[2])\n",
    "    Y_val_test.append(p[3])"
   ]
  },
  {
   "cell_type": "markdown",
   "id": "682e7300",
   "metadata": {},
   "source": [
    "Nous récuperons dans chaque classe un échatillon des données d'entrainement (70%) et de données test (30%), pour que toutes les classes puissent être représentées dans le training et test "
   ]
  },
  {
   "cell_type": "code",
   "execution_count": 120,
   "id": "55fb3711",
   "metadata": {},
   "outputs": [],
   "source": []
  },
  {
   "cell_type": "markdown",
   "id": "f1adc375",
   "metadata": {},
   "source": [
    "### Construction des Modèles"
   ]
  },
  {
   "cell_type": "code",
   "execution_count": 23,
   "id": "ad2a246e",
   "metadata": {},
   "outputs": [],
   "source": [
    "from sklearn.ensemble import VotingClassifier"
   ]
  },
  {
   "cell_type": "code",
   "execution_count": 24,
   "id": "236de4c1",
   "metadata": {},
   "outputs": [],
   "source": [
    "from sklearn.tree import DecisionTreeClassifier\n",
    "from sklearn.metrics import confusion_matrix\n",
    "from sklearn.linear_model import LogisticRegression\n",
    "from sklearn.neighbors import KNeighborsClassifier"
   ]
  },
  {
   "cell_type": "code",
   "execution_count": 46,
   "id": "2fff5084",
   "metadata": {},
   "outputs": [
    {
     "name": "stdout",
     "output_type": "stream",
     "text": [
      "DecisionTreeClassifier 0.9216666666666666\n",
      "KNeighborsClassifier 0.9683333333333334\n",
      "LogisticRegression 0.9816666666666667\n",
      "VotingClassifier 0.985\n"
     ]
    }
   ],
   "source": [
    "model_1 = DecisionTreeClassifier(random_state=0)\n",
    "model_2 = KNeighborsClassifier(n_neighbors=2)\n",
    "model_3 = LogisticRegression()\n",
    "\n",
    "    \n",
    "model = VotingClassifier([('Tree', model_1), ('KNN',model_2), ('RL', model_3)],voting = 'hard')\n",
    "\n",
    "for model in (model_1, model_2, model_3, model) : \n",
    "    model.fit(X_train, Y_train)\n",
    "    print(model.__class__.__name__, model.score(X_test,Y_test))\n"
   ]
  },
  {
   "cell_type": "markdown",
   "id": "8323f48d",
   "metadata": {},
   "source": [
    "Nous avons appliqué un classifieur ensembliste qui aggrège les resultats des trois modèles par la technique de vote majoritaire. En observant le score sur l'entrainement des modèles, de manière separée, l'arbre de décision a donné un score de 92,16%, le KNeighborsclassifie 96,83%  et la regression logistique 98,16% et le votingclassiffier 98,5%."
   ]
  },
  {
   "cell_type": "markdown",
   "id": "6ff2b59e",
   "metadata": {},
   "source": [
    "#### Phase de prédiction"
   ]
  },
  {
   "cell_type": "code",
   "execution_count": 26,
   "id": "67c48a17",
   "metadata": {},
   "outputs": [
    {
     "data": {
      "text/plain": [
       "array([0., 0., 0., 0., 0., 0., 0., 0., 0., 0., 0., 0., 0., 0., 0., 0., 0.,\n",
       "       0., 0., 0., 0., 0., 0., 0., 0., 0., 0., 0., 0., 0., 0., 0., 0., 0.,\n",
       "       0., 0., 0., 0., 0., 0., 0., 0., 0., 0., 0., 0., 0., 0., 0., 0., 0.,\n",
       "       0., 0., 0., 0., 0., 0., 0., 0., 0., 1., 1., 1., 1., 1., 1., 1., 1.,\n",
       "       1., 1., 1., 1., 1., 1., 1., 1., 1., 1., 1., 1., 1., 1., 1., 1., 1.,\n",
       "       1., 1., 1., 1., 1., 1., 1., 1., 1., 1., 1., 1., 1., 1., 1., 1., 1.,\n",
       "       1., 7., 1., 1., 1., 1., 1., 1., 1., 1., 1., 1., 1., 1., 1., 1., 1.,\n",
       "       1., 2., 2., 2., 2., 2., 2., 2., 2., 2., 2., 2., 2., 2., 2., 2., 2.,\n",
       "       2., 2., 2., 2., 2., 2., 2., 2., 2., 2., 2., 2., 2., 2., 2., 2., 2.,\n",
       "       2., 2., 2., 2., 2., 2., 2., 2., 2., 2., 2., 2., 2., 2., 2., 2., 2.,\n",
       "       2., 0., 2., 2., 2., 2., 2., 2., 2., 2., 3., 3., 3., 3., 3., 3., 3.,\n",
       "       3., 3., 3., 3., 3., 3., 3., 3., 3., 3., 3., 3., 3., 3., 3., 3., 3.,\n",
       "       3., 3., 3., 3., 3., 3., 3., 3., 3., 3., 3., 3., 3., 3., 3., 3., 3.,\n",
       "       3., 3., 3., 3., 3., 3., 3., 3., 3., 3., 3., 3., 3., 3., 3., 3., 3.,\n",
       "       3., 3., 4., 4., 4., 4., 4., 4., 4., 4., 4., 4., 4., 4., 4., 4., 4.,\n",
       "       4., 4., 4., 3., 4., 4., 4., 4., 4., 4., 4., 4., 4., 4., 4., 4., 4.,\n",
       "       4., 4., 6., 4., 4., 4., 4., 4., 4., 4., 4., 4., 4., 4., 4., 4., 4.,\n",
       "       4., 4., 4., 4., 4., 4., 4., 4., 4., 4., 4., 5., 5., 5., 5., 5., 5.,\n",
       "       5., 5., 5., 5., 5., 5., 5., 5., 5., 5., 5., 5., 5., 5., 5., 5., 5.,\n",
       "       5., 5., 5., 5., 5., 5., 5., 5., 5., 5., 5., 5., 5., 5., 5., 3., 5.,\n",
       "       5., 5., 5., 5., 5., 5., 5., 5., 5., 5., 5., 5., 5., 5., 5., 5., 5.,\n",
       "       5., 5., 5., 6., 6., 6., 6., 6., 6., 6., 6., 6., 6., 6., 6., 6., 6.,\n",
       "       6., 6., 6., 6., 6., 6., 6., 6., 6., 6., 6., 6., 6., 6., 6., 6., 6.,\n",
       "       6., 6., 6., 6., 6., 6., 6., 6., 6., 6., 6., 6., 6., 6., 6., 6., 6.,\n",
       "       6., 6., 6., 6., 6., 6., 6., 6., 6., 6., 6., 6., 7., 7., 7., 7., 7.,\n",
       "       7., 7., 7., 7., 7., 7., 7., 7., 7., 7., 7., 7., 7., 7., 7., 7., 7.,\n",
       "       7., 7., 7., 7., 7., 2., 7., 7., 7., 7., 7., 7., 7., 7., 7., 7., 7.,\n",
       "       7., 7., 7., 3., 7., 7., 7., 7., 7., 7., 7., 7., 7., 7., 7., 7., 7.,\n",
       "       7., 7., 7., 7., 8., 8., 8., 8., 8., 8., 8., 8., 8., 8., 8., 8., 8.,\n",
       "       8., 8., 8., 8., 8., 8., 8., 8., 8., 8., 8., 8., 8., 8., 8., 8., 8.,\n",
       "       8., 8., 8., 8., 8., 8., 8., 8., 8., 8., 8., 8., 8., 8., 8., 8., 8.,\n",
       "       8., 8., 8., 8., 8., 8., 8., 8., 8., 8., 8., 8., 1., 9., 9., 9., 9.,\n",
       "       9., 9., 9., 9., 9., 9., 9., 9., 9., 9., 9., 9., 9., 9., 9., 9., 9.,\n",
       "       9., 9., 9., 9., 9., 1., 9., 9., 9., 9., 9., 9., 9., 9., 9., 9., 9.,\n",
       "       9., 9., 9., 9., 9., 9., 9., 9., 9., 9., 9., 9., 9., 9., 9., 9., 9.,\n",
       "       9., 9., 9., 9., 9.])"
      ]
     },
     "execution_count": 26,
     "metadata": {},
     "output_type": "execute_result"
    }
   ],
   "source": [
    "# Prédiction sur les données des test\n",
    "prediction = model.predict(X_test)\n",
    "prediction"
   ]
  },
  {
   "cell_type": "markdown",
   "id": "5898406a",
   "metadata": {},
   "source": [
    "#### Matrice de Confusion du modèle"
   ]
  },
  {
   "cell_type": "code",
   "execution_count": 27,
   "id": "16dc3a49",
   "metadata": {},
   "outputs": [
    {
     "data": {
      "image/png": "[encoded data removed]",
      "text/plain": [
       "<Figure size 432x288 with 1 Axes>"
      ]
     },
     "metadata": {
      "needs_background": "light"
     },
     "output_type": "display_data"
    },
    {
     "name": "stdout",
     "output_type": "stream",
     "text": [
      "              precision    recall  f1-score   support\n",
      "\n",
      "         0.0       0.98      1.00      0.99        60\n",
      "         1.0       0.97      0.98      0.98        60\n",
      "         2.0       0.98      0.98      0.98        60\n",
      "         3.0       0.95      1.00      0.98        60\n",
      "         4.0       1.00      0.97      0.98        60\n",
      "         5.0       1.00      0.98      0.99        60\n",
      "         6.0       0.98      1.00      0.99        60\n",
      "         7.0       0.98      0.97      0.97        60\n",
      "         8.0       1.00      0.98      0.99        60\n",
      "         9.0       1.00      0.98      0.99        60\n",
      "\n",
      "    accuracy                           0.98       600\n",
      "   macro avg       0.99      0.98      0.99       600\n",
      "weighted avg       0.99      0.98      0.99       600\n",
      "\n"
     ]
    }
   ],
   "source": [
    "cm=confusion_matrix(Y_test, model.predict(X_test))\n",
    "plt.figure(figsize=(6,4))\n",
    "sns.heatmap(cm,annot=True,center=0, linewidths=.5,cbar=False)\n",
    "plt.show()    \n",
    "print(classification_report(Y_test, prediction))"
   ]
  },
  {
   "cell_type": "markdown",
   "id": "9b8a195b",
   "metadata": {},
   "source": [
    "#### Observation de la prédiction sur les classes réeels"
   ]
  },
  {
   "cell_type": "code",
   "execution_count": 28,
   "id": "f3772df4",
   "metadata": {},
   "outputs": [
    {
     "data": {
      "text/html": [
       "<div>\n",
       "<style scoped>\n",
       "    .dataframe tbody tr th:only-of-type {\n",
       "        vertical-align: middle;\n",
       "    }\n",
       "\n",
       "    .dataframe tbody tr th {\n",
       "        vertical-align: top;\n",
       "    }\n",
       "\n",
       "    .dataframe thead th {\n",
       "        text-align: right;\n",
       "    }\n",
       "</style>\n",
       "<table border=\"1\" class=\"dataframe\">\n",
       "  <thead>\n",
       "    <tr style=\"text-align: right;\">\n",
       "      <th></th>\n",
       "      <th>True</th>\n",
       "      <th>Predict</th>\n",
       "    </tr>\n",
       "  </thead>\n",
       "  <tbody>\n",
       "    <tr>\n",
       "      <th>0</th>\n",
       "      <td>0.0</td>\n",
       "      <td>0.0</td>\n",
       "    </tr>\n",
       "    <tr>\n",
       "      <th>1</th>\n",
       "      <td>0.0</td>\n",
       "      <td>0.0</td>\n",
       "    </tr>\n",
       "    <tr>\n",
       "      <th>2</th>\n",
       "      <td>0.0</td>\n",
       "      <td>0.0</td>\n",
       "    </tr>\n",
       "    <tr>\n",
       "      <th>3</th>\n",
       "      <td>0.0</td>\n",
       "      <td>0.0</td>\n",
       "    </tr>\n",
       "    <tr>\n",
       "      <th>4</th>\n",
       "      <td>0.0</td>\n",
       "      <td>0.0</td>\n",
       "    </tr>\n",
       "    <tr>\n",
       "      <th>...</th>\n",
       "      <td>...</td>\n",
       "      <td>...</td>\n",
       "    </tr>\n",
       "    <tr>\n",
       "      <th>595</th>\n",
       "      <td>9.0</td>\n",
       "      <td>9.0</td>\n",
       "    </tr>\n",
       "    <tr>\n",
       "      <th>596</th>\n",
       "      <td>9.0</td>\n",
       "      <td>9.0</td>\n",
       "    </tr>\n",
       "    <tr>\n",
       "      <th>597</th>\n",
       "      <td>9.0</td>\n",
       "      <td>9.0</td>\n",
       "    </tr>\n",
       "    <tr>\n",
       "      <th>598</th>\n",
       "      <td>9.0</td>\n",
       "      <td>9.0</td>\n",
       "    </tr>\n",
       "    <tr>\n",
       "      <th>599</th>\n",
       "      <td>9.0</td>\n",
       "      <td>9.0</td>\n",
       "    </tr>\n",
       "  </tbody>\n",
       "</table>\n",
       "<p>600 rows × 2 columns</p>\n",
       "</div>"
      ],
      "text/plain": [
       "     True  Predict\n",
       "0     0.0      0.0\n",
       "1     0.0      0.0\n",
       "2     0.0      0.0\n",
       "3     0.0      0.0\n",
       "4     0.0      0.0\n",
       "..    ...      ...\n",
       "595   9.0      9.0\n",
       "596   9.0      9.0\n",
       "597   9.0      9.0\n",
       "598   9.0      9.0\n",
       "599   9.0      9.0\n",
       "\n",
       "[600 rows x 2 columns]"
      ]
     },
     "execution_count": 28,
     "metadata": {},
     "output_type": "execute_result"
    }
   ],
   "source": [
    "obs=pd.concat([pd.DataFrame(Y_test.values),pd.DataFrame(prediction)],axis=1)\n",
    "obs.columns={\"True\",\"Predict\"}\n",
    "obs"
   ]
  },
  {
   "cell_type": "code",
   "execution_count": 29,
   "id": "d579a7f2",
   "metadata": {},
   "outputs": [
    {
     "data": {
      "text/plain": [
       "<AxesSubplot:ylabel='Density'>"
      ]
     },
     "execution_count": 29,
     "metadata": {},
     "output_type": "execute_result"
    },
    {
     "data": {
      "image/png": "[encoded data removed]",
      "text/plain": [
       "<Figure size 432x288 with 1 Axes>"
      ]
     },
     "metadata": {
      "needs_background": "light"
     },
     "output_type": "display_data"
    }
   ],
   "source": [
    "obs.plot.density()"
   ]
  },
  {
   "cell_type": "markdown",
   "id": "8625023f",
   "metadata": {},
   "source": [
    "Nous observons que la courbe de la prediction sur les classes de test suit la courbe des données des classes réelles de test, ce qui prouve que le modèle fait une bonne prédiction des classes, d'où il est perfomant "
   ]
  },
  {
   "cell_type": "code",
   "execution_count": 30,
   "id": "51a2bea1",
   "metadata": {},
   "outputs": [
    {
     "data": {
      "text/plain": [
       "[<matplotlib.lines.Line2D at 0x7feb13c75fd0>]"
      ]
     },
     "execution_count": 30,
     "metadata": {},
     "output_type": "execute_result"
    },
    {
     "data": {
      "image/png": "[encoded data removed]",
      "text/plain": [
       "<Figure size 864x432 with 1 Axes>"
      ]
     },
     "metadata": {
      "needs_background": "light"
     },
     "output_type": "display_data"
    }
   ],
   "source": [
    "plt.figure(figsize=(12,6))\n",
    "plt.scatter(Y_test, prediction)\n",
    "plt.plot(prediction,prediction, 'r')"
   ]
  },
  {
   "cell_type": "markdown",
   "id": "659674ce",
   "metadata": {},
   "source": [
    "Dans ce graphe, nous observations visiblement les 9 chiffres qui ont été mal prédits, donc sur l'ensemble de 400 chiffres, le taux d'erreur se mesure à 1,75 %, on peut donc faire confiance à notre modèle."
   ]
  },
  {
   "cell_type": "markdown",
   "id": "4f3106cd",
   "metadata": {},
   "source": [
    "### Random Forest"
   ]
  },
  {
   "cell_type": "code",
   "execution_count": 187,
   "id": "5815d51d",
   "metadata": {},
   "outputs": [],
   "source": [
    "from sklearn.ensemble import RandomForestClassifier"
   ]
  },
  {
   "cell_type": "code",
   "execution_count": 188,
   "id": "9c1537d7",
   "metadata": {},
   "outputs": [
    {
     "data": {
      "text/plain": [
       "0.9816666666666667"
      ]
     },
     "execution_count": 188,
     "metadata": {},
     "output_type": "execute_result"
    }
   ],
   "source": [
    "model1=RandomForestClassifier()\n",
    "model1.fit(X_train,Y_train)\n",
    "pred=model1.predict(X_test)\n",
    "accuracy_score(Y_test,pred)"
   ]
  },
  {
   "cell_type": "code",
   "execution_count": 190,
   "id": "c3321d67",
   "metadata": {},
   "outputs": [
    {
     "data": {
      "image/png": "[encoded data removed]",
      "text/plain": [
       "<Figure size 432x288 with 2 Axes>"
      ]
     },
     "metadata": {
      "needs_background": "light"
     },
     "output_type": "display_data"
    },
    {
     "name": "stdout",
     "output_type": "stream",
     "text": [
      "              precision    recall  f1-score   support\n",
      "\n",
      "         0.0       1.00      0.98      0.99        60\n",
      "         1.0       0.94      1.00      0.97        60\n",
      "         2.0       1.00      0.97      0.98        60\n",
      "         3.0       0.95      0.98      0.97        60\n",
      "         4.0       1.00      0.98      0.99        60\n",
      "         5.0       0.97      0.98      0.98        60\n",
      "         6.0       1.00      1.00      1.00        60\n",
      "         7.0       0.98      0.97      0.97        60\n",
      "         8.0       0.98      0.97      0.97        60\n",
      "         9.0       1.00      0.98      0.99        60\n",
      "\n",
      "    accuracy                           0.98       600\n",
      "   macro avg       0.98      0.98      0.98       600\n",
      "weighted avg       0.98      0.98      0.98       600\n",
      "\n"
     ]
    }
   ],
   "source": [
    "#plot confusion matrix\n",
    "results = {'y_Actual':Y_test, 'y_Predicted':pred}\n",
    "df_results = pd.DataFrame(results, columns=['y_Actual','y_Predicted'])\n",
    "matrix = pd.crosstab(df_results['y_Actual'], df_results['y_Predicted'], rownames=['Actual'], colnames=['Predicted'])\n",
    "sns.heatmap(matrix, annot=True, fmt='d')\n",
    "plt.show()\n",
    "#print classification report\n",
    "print(classification_report(Y_test, pred))"
   ]
  },
  {
   "cell_type": "code",
   "execution_count": 192,
   "id": "40c5bef2",
   "metadata": {},
   "outputs": [
    {
     "data": {
      "text/plain": [
       "[<matplotlib.lines.Line2D at 0x7fea63287130>]"
      ]
     },
     "execution_count": 192,
     "metadata": {},
     "output_type": "execute_result"
    },
    {
     "data": {
      "image/png": "[encoded data removed]",
      "text/plain": [
       "<Figure size 864x432 with 1 Axes>"
      ]
     },
     "metadata": {
      "needs_background": "light"
     },
     "output_type": "display_data"
    }
   ],
   "source": [
    "plt.figure(figsize=(12,6))\n",
    "plt.scatter(Y_test, pred)\n",
    "plt.plot(pred,pred, 'r')"
   ]
  },
  {
   "cell_type": "markdown",
   "id": "9cea4970",
   "metadata": {},
   "source": [
    "#### Réseaux des neurones"
   ]
  },
  {
   "cell_type": "code",
   "execution_count": 149,
   "id": "5f048b4d",
   "metadata": {},
   "outputs": [],
   "source": [
    "import tensorflow as tf\n",
    "from tensorflow import keras\n",
    "from tensorflow.keras import models, layers, losses"
   ]
  },
  {
   "cell_type": "code",
   "execution_count": 170,
   "id": "b2796eba",
   "metadata": {},
   "outputs": [],
   "source": [
    "network=keras.Sequential()\n",
    "network.add(layers.Dense(40,activation = 'relu', input_shape=(649,))) \n",
    "network.add(layers.Dense(40,activation = 'relu'))   # couche cachée\n",
    "network.add(layers.Dense(10,activation = 'sigmoid'))   "
   ]
  },
  {
   "cell_type": "code",
   "execution_count": 183,
   "id": "e1b9c7ae",
   "metadata": {},
   "outputs": [
    {
     "name": "stdout",
     "output_type": "stream",
     "text": [
      "Epoch 1/5\n",
      "350/350 [==============================] - 3s 8ms/step - loss: 1.7728e-05 - accuracy: 1.0000 - val_loss: 0.2298 - val_accuracy: 0.9767\n",
      "Epoch 2/5\n",
      "350/350 [==============================] - 2s 7ms/step - loss: 9.6288e-07 - accuracy: 1.0000 - val_loss: 0.2118 - val_accuracy: 0.9750\n",
      "Epoch 3/5\n",
      "350/350 [==============================] - 3s 8ms/step - loss: 4.6191e-08 - accuracy: 1.0000 - val_loss: 0.1925 - val_accuracy: 0.9750\n",
      "Epoch 4/5\n",
      "350/350 [==============================] - 3s 9ms/step - loss: 5.8113e-08 - accuracy: 1.0000 - val_loss: 0.1965 - val_accuracy: 0.9783\n",
      "Epoch 5/5\n",
      "350/350 [==============================] - 3s 8ms/step - loss: 5.3943e-09 - accuracy: 1.0000 - val_loss: 0.1957 - val_accuracy: 0.9783\n"
     ]
    }
   ],
   "source": [
    "network.compile(optimizer='adam',                # mise à jour des poids de connection\n",
    "               loss=\"sparse_categorical_crossentropy\",\n",
    "               metrics=['accuracy'])\n",
    "hist= network.fit(X_train, Y_train, batch_size=4, epochs=5, validation_data=(X_test,Y_test))"
   ]
  },
  {
   "cell_type": "code",
   "execution_count": 175,
   "id": "9bf50851",
   "metadata": {},
   "outputs": [
    {
     "name": "stdout",
     "output_type": "stream",
     "text": [
      "19/19 [==============================] - 0s 7ms/step - loss: 0.1205 - accuracy: 0.9850\n",
      "score: 0.9850000143051147\n"
     ]
    }
   ],
   "source": [
    "loss, score=network.evaluate(X_test,Y_test)\n",
    "print('score:', score)"
   ]
  }
 ],
 "metadata": {
  "kernelspec": {
   "display_name": "Python 3 (ipykernel)",
   "language": "python",
   "name": "python3"
  },
  "language_info": {
   "codemirror_mode": {
    "name": "ipython",
    "version": 3
   },
   "file_extension": ".py",
   "mimetype": "text/x-python",
   "name": "python",
   "nbconvert_exporter": "python",
   "pygments_lexer": "ipython3",
   "version": "3.8.8"
  }
 },
 "nbformat": 4,
 "nbformat_minor": 5
}
